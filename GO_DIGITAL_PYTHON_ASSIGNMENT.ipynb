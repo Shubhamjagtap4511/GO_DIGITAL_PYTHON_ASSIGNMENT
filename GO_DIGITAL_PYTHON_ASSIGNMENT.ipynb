{
 "cells": [
  {
   "cell_type": "markdown",
   "metadata": {
    "id": "c89nCOV4Gcaa"
   },
   "source": [
    "# GO DIGITAL PYTHON ASSIGNMENT\n",
    "NAME:SHUBHAM JAGTAP"
   ]
  },
  {
   "cell_type": "code",
   "execution_count": null,
   "metadata": {},
   "outputs": [],
   "source": [
    "import numpy as np\n",
    "import pandas as pd"
   ]
  },
  {
   "cell_type": "code",
   "execution_count": 3,
   "metadata": {
    "id": "5ypCTNAVHQ89"
   },
   "outputs": [],
   "source": [
    "insurance= pd.read_csv(\"insurance_data.csv\")\n",
    "employee = pd.read_csv(\"employee_data.csv\")\n",
    "vendor = pd.read_csv(\"vendor_data.csv\")"
   ]
  },
  {
   "cell_type": "markdown",
   "metadata": {
    "id": "1BcnJZ8je0zl"
   },
   "source": [
    "# TASK 1"
   ]
  },
  {
   "cell_type": "code",
   "execution_count": 4,
   "metadata": {
    "colab": {
     "base_uri": "https://localhost:8080/"
    },
    "id": "nPuOF6T_fDM3",
    "outputId": "6770ca1b-d98c-4d7a-bd8c-5ac84b5ef663"
   },
   "outputs": [
    {
     "data": {
      "text/plain": [
       "(10000, 38)"
      ]
     },
     "execution_count": 4,
     "metadata": {},
     "output_type": "execute_result"
    }
   ],
   "source": [
    "insurance.shape"
   ]
  },
  {
   "cell_type": "code",
   "execution_count": 5,
   "metadata": {
    "colab": {
     "base_uri": "https://localhost:8080/"
    },
    "id": "qvwNJl1kfJVR",
    "outputId": "7b269589-811c-4089-b004-c54c8a5c024d"
   },
   "outputs": [
    {
     "data": {
      "text/plain": [
       "(1200, 10)"
      ]
     },
     "execution_count": 5,
     "metadata": {},
     "output_type": "execute_result"
    }
   ],
   "source": [
    "employee.shape"
   ]
  },
  {
   "cell_type": "code",
   "execution_count": 6,
   "metadata": {
    "colab": {
     "base_uri": "https://localhost:8080/"
    },
    "id": "JP_jsJ63fO0i",
    "outputId": "f755458d-9902-442f-af1a-7fb1ea28e73a"
   },
   "outputs": [
    {
     "data": {
      "text/plain": [
       "(600, 7)"
      ]
     },
     "execution_count": 6,
     "metadata": {},
     "output_type": "execute_result"
    }
   ],
   "source": [
    "vendor.shape"
   ]
  },
  {
   "cell_type": "code",
   "execution_count": 7,
   "metadata": {
    "id": "ogVUuhiLHh5q"
   },
   "outputs": [],
   "source": [
    "#Merging insurance and employee dataset throught AGENT_ID\n",
    "df_1 = pd.merge(left= insurance,right=employee,on=\"AGENT_ID\",how= \"left\")"
   ]
  },
  {
   "cell_type": "code",
   "execution_count": 8,
   "metadata": {
    "id": "E2RaQbOwI_tc"
   },
   "outputs": [],
   "source": [
    "#Merging df_1 and vendor dataset through VENDOR_ID\n",
    "df = pd.merge(left= df_1,right=vendor,on=\"VENDOR_ID\",how= \"left\")"
   ]
  },
  {
   "cell_type": "code",
   "execution_count": 9,
   "metadata": {},
   "outputs": [
    {
     "data": {
      "text/plain": [
       "(10000, 53)"
      ]
     },
     "execution_count": 9,
     "metadata": {},
     "output_type": "execute_result"
    }
   ],
   "source": [
    "df.shape"
   ]
  },
  {
   "cell_type": "code",
   "execution_count": 10,
   "metadata": {},
   "outputs": [
    {
     "data": {
      "text/html": [
       "<div>\n",
       "<style scoped>\n",
       "    .dataframe tbody tr th:only-of-type {\n",
       "        vertical-align: middle;\n",
       "    }\n",
       "\n",
       "    .dataframe tbody tr th {\n",
       "        vertical-align: top;\n",
       "    }\n",
       "\n",
       "    .dataframe thead th {\n",
       "        text-align: right;\n",
       "    }\n",
       "</style>\n",
       "<table border=\"1\" class=\"dataframe\">\n",
       "  <thead>\n",
       "    <tr style=\"text-align: right;\">\n",
       "      <th></th>\n",
       "      <th>TXN_DATE_TIME</th>\n",
       "      <th>TRANSACTION_ID</th>\n",
       "      <th>CUSTOMER_ID</th>\n",
       "      <th>POLICY_NUMBER</th>\n",
       "      <th>POLICY_EFF_DT</th>\n",
       "      <th>LOSS_DT</th>\n",
       "      <th>REPORT_DT</th>\n",
       "      <th>INSURANCE_TYPE</th>\n",
       "      <th>PREMIUM_AMOUNT</th>\n",
       "      <th>CLAIM_AMOUNT</th>\n",
       "      <th>...</th>\n",
       "      <th>STATE_y</th>\n",
       "      <th>POSTAL_CODE_y</th>\n",
       "      <th>EMP_ROUTING_NUMBER</th>\n",
       "      <th>EMP_ACCT_NUMBER</th>\n",
       "      <th>VENDOR_NAME</th>\n",
       "      <th>ADDRESS_LINE1</th>\n",
       "      <th>ADDRESS_LINE2</th>\n",
       "      <th>CITY</th>\n",
       "      <th>STATE</th>\n",
       "      <th>POSTAL_CODE</th>\n",
       "    </tr>\n",
       "  </thead>\n",
       "  <tbody>\n",
       "    <tr>\n",
       "      <th>0</th>\n",
       "      <td>2020-06-01 00:00:00</td>\n",
       "      <td>TXN00000001</td>\n",
       "      <td>A00003822</td>\n",
       "      <td>PLC00008468</td>\n",
       "      <td>2015-06-23</td>\n",
       "      <td>2020-05-16</td>\n",
       "      <td>2020-05-21</td>\n",
       "      <td>Health</td>\n",
       "      <td>157.13</td>\n",
       "      <td>9000</td>\n",
       "      <td>...</td>\n",
       "      <td>TN</td>\n",
       "      <td>37217</td>\n",
       "      <td>35441155</td>\n",
       "      <td>LRZO53254369804934</td>\n",
       "      <td>Ramsey Inc</td>\n",
       "      <td>3114 West 20th Court</td>\n",
       "      <td>NaN</td>\n",
       "      <td>Panama City</td>\n",
       "      <td>FL</td>\n",
       "      <td>32405.0</td>\n",
       "    </tr>\n",
       "    <tr>\n",
       "      <th>1</th>\n",
       "      <td>2020-06-01 00:00:00</td>\n",
       "      <td>TXN00000002</td>\n",
       "      <td>A00008149</td>\n",
       "      <td>PLC00009594</td>\n",
       "      <td>2018-04-21</td>\n",
       "      <td>2020-05-13</td>\n",
       "      <td>2020-05-18</td>\n",
       "      <td>Property</td>\n",
       "      <td>141.71</td>\n",
       "      <td>26000</td>\n",
       "      <td>...</td>\n",
       "      <td>AZ</td>\n",
       "      <td>85301</td>\n",
       "      <td>44055451</td>\n",
       "      <td>XBYG14382904542874</td>\n",
       "      <td>Morales, Campbell and Washington</td>\n",
       "      <td>42 West Louise Street</td>\n",
       "      <td>B</td>\n",
       "      <td>Fayetteville</td>\n",
       "      <td>AR</td>\n",
       "      <td>72701.0</td>\n",
       "    </tr>\n",
       "    <tr>\n",
       "      <th>2</th>\n",
       "      <td>2020-06-01 00:00:00</td>\n",
       "      <td>TXN00000003</td>\n",
       "      <td>A00003172</td>\n",
       "      <td>PLC00007969</td>\n",
       "      <td>2019-10-03</td>\n",
       "      <td>2020-05-21</td>\n",
       "      <td>2020-05-26</td>\n",
       "      <td>Property</td>\n",
       "      <td>157.24</td>\n",
       "      <td>13000</td>\n",
       "      <td>...</td>\n",
       "      <td>AL</td>\n",
       "      <td>36105</td>\n",
       "      <td>55770246</td>\n",
       "      <td>WRXH14597428306333</td>\n",
       "      <td>Johnson Ltd</td>\n",
       "      <td>2619 North Quality Lane</td>\n",
       "      <td>#315</td>\n",
       "      <td>Fayetteville</td>\n",
       "      <td>AR</td>\n",
       "      <td>72703.0</td>\n",
       "    </tr>\n",
       "    <tr>\n",
       "      <th>3</th>\n",
       "      <td>2020-06-01 00:00:00</td>\n",
       "      <td>TXN00000004</td>\n",
       "      <td>A00007572</td>\n",
       "      <td>PLC00009292</td>\n",
       "      <td>2016-11-29</td>\n",
       "      <td>2020-05-14</td>\n",
       "      <td>2020-05-19</td>\n",
       "      <td>Health</td>\n",
       "      <td>172.87</td>\n",
       "      <td>16000</td>\n",
       "      <td>...</td>\n",
       "      <td>OK</td>\n",
       "      <td>73071</td>\n",
       "      <td>87652976</td>\n",
       "      <td>YEPN16077902472499</td>\n",
       "      <td>Blackwell-Foster</td>\n",
       "      <td>3609 Meadow Drive</td>\n",
       "      <td>NaN</td>\n",
       "      <td>Nashville</td>\n",
       "      <td>TN</td>\n",
       "      <td>37215.0</td>\n",
       "    </tr>\n",
       "    <tr>\n",
       "      <th>4</th>\n",
       "      <td>2020-06-01 00:00:00</td>\n",
       "      <td>TXN00000005</td>\n",
       "      <td>A00008173</td>\n",
       "      <td>PLC00000204</td>\n",
       "      <td>2011-12-26</td>\n",
       "      <td>2020-05-17</td>\n",
       "      <td>2020-05-22</td>\n",
       "      <td>Travel</td>\n",
       "      <td>88.53</td>\n",
       "      <td>3000</td>\n",
       "      <td>...</td>\n",
       "      <td>MD</td>\n",
       "      <td>21061</td>\n",
       "      <td>76119019</td>\n",
       "      <td>HZBK86544578578547</td>\n",
       "      <td>Evans-Scott</td>\n",
       "      <td>4001 19th Place Northeast</td>\n",
       "      <td>NaN</td>\n",
       "      <td>Washington</td>\n",
       "      <td>DC</td>\n",
       "      <td>20018.0</td>\n",
       "    </tr>\n",
       "  </tbody>\n",
       "</table>\n",
       "<p>5 rows × 53 columns</p>\n",
       "</div>"
      ],
      "text/plain": [
       "         TXN_DATE_TIME TRANSACTION_ID CUSTOMER_ID POLICY_NUMBER POLICY_EFF_DT  \\\n",
       "0  2020-06-01 00:00:00    TXN00000001   A00003822   PLC00008468    2015-06-23   \n",
       "1  2020-06-01 00:00:00    TXN00000002   A00008149   PLC00009594    2018-04-21   \n",
       "2  2020-06-01 00:00:00    TXN00000003   A00003172   PLC00007969    2019-10-03   \n",
       "3  2020-06-01 00:00:00    TXN00000004   A00007572   PLC00009292    2016-11-29   \n",
       "4  2020-06-01 00:00:00    TXN00000005   A00008173   PLC00000204    2011-12-26   \n",
       "\n",
       "      LOSS_DT   REPORT_DT INSURANCE_TYPE  PREMIUM_AMOUNT  CLAIM_AMOUNT  ...  \\\n",
       "0  2020-05-16  2020-05-21         Health          157.13          9000  ...   \n",
       "1  2020-05-13  2020-05-18       Property          141.71         26000  ...   \n",
       "2  2020-05-21  2020-05-26       Property          157.24         13000  ...   \n",
       "3  2020-05-14  2020-05-19         Health          172.87         16000  ...   \n",
       "4  2020-05-17  2020-05-22         Travel           88.53          3000  ...   \n",
       "\n",
       "  STATE_y POSTAL_CODE_y EMP_ROUTING_NUMBER     EMP_ACCT_NUMBER  \\\n",
       "0      TN         37217           35441155  LRZO53254369804934   \n",
       "1      AZ         85301           44055451  XBYG14382904542874   \n",
       "2      AL         36105           55770246  WRXH14597428306333   \n",
       "3      OK         73071           87652976  YEPN16077902472499   \n",
       "4      MD         21061           76119019  HZBK86544578578547   \n",
       "\n",
       "                        VENDOR_NAME              ADDRESS_LINE1 ADDRESS_LINE2  \\\n",
       "0                        Ramsey Inc       3114 West 20th Court           NaN   \n",
       "1  Morales, Campbell and Washington      42 West Louise Street             B   \n",
       "2                       Johnson Ltd    2619 North Quality Lane          #315   \n",
       "3                  Blackwell-Foster          3609 Meadow Drive           NaN   \n",
       "4                       Evans-Scott  4001 19th Place Northeast           NaN   \n",
       "\n",
       "           CITY  STATE  POSTAL_CODE  \n",
       "0   Panama City     FL      32405.0  \n",
       "1  Fayetteville     AR      72701.0  \n",
       "2  Fayetteville     AR      72703.0  \n",
       "3     Nashville     TN      37215.0  \n",
       "4    Washington     DC      20018.0  \n",
       "\n",
       "[5 rows x 53 columns]"
      ]
     },
     "execution_count": 10,
     "metadata": {},
     "output_type": "execute_result"
    }
   ],
   "source": [
    "df.head()"
   ]
  },
  {
   "cell_type": "markdown",
   "metadata": {
    "id": "Lo-dSjRHgUtz"
   },
   "source": [
    "\n",
    "\n",
    "# TASK **2**"
   ]
  },
  {
   "cell_type": "code",
   "execution_count": 12,
   "metadata": {
    "colab": {
     "base_uri": "https://localhost:8080/"
    },
    "id": "eqlJ3A5eJHv9",
    "outputId": "b3272874-0050-4166-9225-0fe04cc3cfe5"
   },
   "outputs": [
    {
     "data": {
      "text/plain": [
       "Property    1692\n",
       "Mobile      1692\n",
       "Health      1690\n",
       "Name: INSURANCE_TYPE, dtype: int64"
      ]
     },
     "execution_count": 12,
     "metadata": {},
     "output_type": "execute_result"
    }
   ],
   "source": [
    "#TOP 3 INSURANCE TYPE\n",
    "df[\"INSURANCE_TYPE\"].value_counts()[:3]\n"
   ]
  },
  {
   "cell_type": "markdown",
   "metadata": {
    "id": "Iz_2Q9BghMVn"
   },
   "source": [
    "# TASK 3"
   ]
  },
  {
   "cell_type": "code",
   "execution_count": 10,
   "metadata": {
    "colab": {
     "base_uri": "https://localhost:8080/"
    },
    "id": "QK6lkkycJQ7b",
    "outputId": "8aab4f18-8d88-4697-bbf2-1f86517b058c"
   },
   "outputs": [
    {
     "data": {
      "text/plain": [
       "CA    112\n",
       "AR     85\n",
       "CO     78\n",
       "CT     77\n",
       "KY     75\n",
       "Name: STATE, dtype: int64"
      ]
     },
     "execution_count": 10,
     "metadata": {},
     "output_type": "execute_result"
    }
   ],
   "source": [
    "# TOP 5 STATES with most insurance claims\n",
    "df[df[\"RISK_SEGMENTATION\"]=='H'].STATE.value_counts()[:5]\n"
   ]
  },
  {
   "cell_type": "markdown",
   "metadata": {
    "id": "2g0q393VhojL"
   },
   "source": [
    "# TASk 4"
   ]
  },
  {
   "cell_type": "code",
   "execution_count": 11,
   "metadata": {
    "colab": {
     "base_uri": "https://localhost:8080/",
     "height": 704
    },
    "id": "tab9uZTWJZFk",
    "outputId": "9c358e1b-a7be-4b5c-8570-dc527edcf80b"
   },
   "outputs": [
    {
     "data": {
      "text/html": [
       "<div>\n",
       "<style scoped>\n",
       "    .dataframe tbody tr th:only-of-type {\n",
       "        vertical-align: middle;\n",
       "    }\n",
       "\n",
       "    .dataframe tbody tr th {\n",
       "        vertical-align: top;\n",
       "    }\n",
       "\n",
       "    .dataframe thead th {\n",
       "        text-align: right;\n",
       "    }\n",
       "</style>\n",
       "<table border=\"1\" class=\"dataframe\">\n",
       "  <thead>\n",
       "    <tr style=\"text-align: right;\">\n",
       "      <th></th>\n",
       "      <th>TXN_DATE_TIME</th>\n",
       "      <th>TRANSACTION_ID</th>\n",
       "      <th>CUSTOMER_ID</th>\n",
       "      <th>POLICY_NUMBER</th>\n",
       "      <th>POLICY_EFF_DT</th>\n",
       "      <th>LOSS_DT</th>\n",
       "      <th>REPORT_DT</th>\n",
       "      <th>INSURANCE_TYPE</th>\n",
       "      <th>PREMIUM_AMOUNT</th>\n",
       "      <th>CLAIM_AMOUNT</th>\n",
       "      <th>...</th>\n",
       "      <th>POSTAL_CODE_y</th>\n",
       "      <th>EMP_ROUTING_NUMBER</th>\n",
       "      <th>EMP_ACCT_NUMBER</th>\n",
       "      <th>VENDOR_NAME</th>\n",
       "      <th>ADDRESS_LINE1</th>\n",
       "      <th>ADDRESS_LINE2</th>\n",
       "      <th>CITY</th>\n",
       "      <th>STATE</th>\n",
       "      <th>POSTAL_CODE</th>\n",
       "      <th>COLOCATION</th>\n",
       "    </tr>\n",
       "  </thead>\n",
       "  <tbody>\n",
       "    <tr>\n",
       "      <th>0</th>\n",
       "      <td>2020-06-01 00:00:00</td>\n",
       "      <td>TXN00000001</td>\n",
       "      <td>A00003822</td>\n",
       "      <td>PLC00008468</td>\n",
       "      <td>2015-06-23</td>\n",
       "      <td>2020-05-16</td>\n",
       "      <td>2020-05-21</td>\n",
       "      <td>Health</td>\n",
       "      <td>157.13</td>\n",
       "      <td>9000</td>\n",
       "      <td>...</td>\n",
       "      <td>37217</td>\n",
       "      <td>35441155</td>\n",
       "      <td>LRZO53254369804934</td>\n",
       "      <td>Ramsey Inc</td>\n",
       "      <td>3114 West 20th Court</td>\n",
       "      <td>NaN</td>\n",
       "      <td>Panama City</td>\n",
       "      <td>FL</td>\n",
       "      <td>32405.0</td>\n",
       "      <td>0</td>\n",
       "    </tr>\n",
       "    <tr>\n",
       "      <th>1</th>\n",
       "      <td>2020-06-01 00:00:00</td>\n",
       "      <td>TXN00000002</td>\n",
       "      <td>A00008149</td>\n",
       "      <td>PLC00009594</td>\n",
       "      <td>2018-04-21</td>\n",
       "      <td>2020-05-13</td>\n",
       "      <td>2020-05-18</td>\n",
       "      <td>Property</td>\n",
       "      <td>141.71</td>\n",
       "      <td>26000</td>\n",
       "      <td>...</td>\n",
       "      <td>85301</td>\n",
       "      <td>44055451</td>\n",
       "      <td>XBYG14382904542874</td>\n",
       "      <td>Morales, Campbell and Washington</td>\n",
       "      <td>42 West Louise Street</td>\n",
       "      <td>B</td>\n",
       "      <td>Fayetteville</td>\n",
       "      <td>AR</td>\n",
       "      <td>72701.0</td>\n",
       "      <td>0</td>\n",
       "    </tr>\n",
       "    <tr>\n",
       "      <th>2</th>\n",
       "      <td>2020-06-01 00:00:00</td>\n",
       "      <td>TXN00000003</td>\n",
       "      <td>A00003172</td>\n",
       "      <td>PLC00007969</td>\n",
       "      <td>2019-10-03</td>\n",
       "      <td>2020-05-21</td>\n",
       "      <td>2020-05-26</td>\n",
       "      <td>Property</td>\n",
       "      <td>157.24</td>\n",
       "      <td>13000</td>\n",
       "      <td>...</td>\n",
       "      <td>36105</td>\n",
       "      <td>55770246</td>\n",
       "      <td>WRXH14597428306333</td>\n",
       "      <td>Johnson Ltd</td>\n",
       "      <td>2619 North Quality Lane</td>\n",
       "      <td>#315</td>\n",
       "      <td>Fayetteville</td>\n",
       "      <td>AR</td>\n",
       "      <td>72703.0</td>\n",
       "      <td>0</td>\n",
       "    </tr>\n",
       "    <tr>\n",
       "      <th>3</th>\n",
       "      <td>2020-06-01 00:00:00</td>\n",
       "      <td>TXN00000004</td>\n",
       "      <td>A00007572</td>\n",
       "      <td>PLC00009292</td>\n",
       "      <td>2016-11-29</td>\n",
       "      <td>2020-05-14</td>\n",
       "      <td>2020-05-19</td>\n",
       "      <td>Health</td>\n",
       "      <td>172.87</td>\n",
       "      <td>16000</td>\n",
       "      <td>...</td>\n",
       "      <td>73071</td>\n",
       "      <td>87652976</td>\n",
       "      <td>YEPN16077902472499</td>\n",
       "      <td>Blackwell-Foster</td>\n",
       "      <td>3609 Meadow Drive</td>\n",
       "      <td>NaN</td>\n",
       "      <td>Nashville</td>\n",
       "      <td>TN</td>\n",
       "      <td>37215.0</td>\n",
       "      <td>0</td>\n",
       "    </tr>\n",
       "    <tr>\n",
       "      <th>4</th>\n",
       "      <td>2020-06-01 00:00:00</td>\n",
       "      <td>TXN00000005</td>\n",
       "      <td>A00008173</td>\n",
       "      <td>PLC00000204</td>\n",
       "      <td>2011-12-26</td>\n",
       "      <td>2020-05-17</td>\n",
       "      <td>2020-05-22</td>\n",
       "      <td>Travel</td>\n",
       "      <td>88.53</td>\n",
       "      <td>3000</td>\n",
       "      <td>...</td>\n",
       "      <td>21061</td>\n",
       "      <td>76119019</td>\n",
       "      <td>HZBK86544578578547</td>\n",
       "      <td>Evans-Scott</td>\n",
       "      <td>4001 19th Place Northeast</td>\n",
       "      <td>NaN</td>\n",
       "      <td>Washington</td>\n",
       "      <td>DC</td>\n",
       "      <td>20018.0</td>\n",
       "      <td>0</td>\n",
       "    </tr>\n",
       "    <tr>\n",
       "      <th>...</th>\n",
       "      <td>...</td>\n",
       "      <td>...</td>\n",
       "      <td>...</td>\n",
       "      <td>...</td>\n",
       "      <td>...</td>\n",
       "      <td>...</td>\n",
       "      <td>...</td>\n",
       "      <td>...</td>\n",
       "      <td>...</td>\n",
       "      <td>...</td>\n",
       "      <td>...</td>\n",
       "      <td>...</td>\n",
       "      <td>...</td>\n",
       "      <td>...</td>\n",
       "      <td>...</td>\n",
       "      <td>...</td>\n",
       "      <td>...</td>\n",
       "      <td>...</td>\n",
       "      <td>...</td>\n",
       "      <td>...</td>\n",
       "      <td>...</td>\n",
       "    </tr>\n",
       "    <tr>\n",
       "      <th>9995</th>\n",
       "      <td>2021-06-30 00:00:00</td>\n",
       "      <td>TXN00009996</td>\n",
       "      <td>A00006029</td>\n",
       "      <td>PLC00007245</td>\n",
       "      <td>2014-04-11</td>\n",
       "      <td>2021-06-25</td>\n",
       "      <td>2021-06-26</td>\n",
       "      <td>Motor</td>\n",
       "      <td>105.75</td>\n",
       "      <td>1000</td>\n",
       "      <td>...</td>\n",
       "      <td>72703</td>\n",
       "      <td>35413882</td>\n",
       "      <td>LFOJ76068590051807</td>\n",
       "      <td>NaN</td>\n",
       "      <td>NaN</td>\n",
       "      <td>NaN</td>\n",
       "      <td>NaN</td>\n",
       "      <td>NaN</td>\n",
       "      <td>NaN</td>\n",
       "      <td>0</td>\n",
       "    </tr>\n",
       "    <tr>\n",
       "      <th>9996</th>\n",
       "      <td>2021-06-30 00:00:00</td>\n",
       "      <td>TXN00009997</td>\n",
       "      <td>A00003555</td>\n",
       "      <td>PLC00002590</td>\n",
       "      <td>2015-08-25</td>\n",
       "      <td>2021-06-12</td>\n",
       "      <td>2021-06-17</td>\n",
       "      <td>Life</td>\n",
       "      <td>64.59</td>\n",
       "      <td>67000</td>\n",
       "      <td>...</td>\n",
       "      <td>31405</td>\n",
       "      <td>91206790</td>\n",
       "      <td>AHEF60771774635030</td>\n",
       "      <td>Newton, Hodges and Henry</td>\n",
       "      <td>32512 Christine Drive</td>\n",
       "      <td>NaN</td>\n",
       "      <td>Union City</td>\n",
       "      <td>CA</td>\n",
       "      <td>94587.0</td>\n",
       "      <td>0</td>\n",
       "    </tr>\n",
       "    <tr>\n",
       "      <th>9997</th>\n",
       "      <td>2021-06-30 00:00:00</td>\n",
       "      <td>TXN00009998</td>\n",
       "      <td>A00004230</td>\n",
       "      <td>PLC00006613</td>\n",
       "      <td>2018-10-11</td>\n",
       "      <td>2021-06-18</td>\n",
       "      <td>2021-06-23</td>\n",
       "      <td>Health</td>\n",
       "      <td>183.50</td>\n",
       "      <td>8000</td>\n",
       "      <td>...</td>\n",
       "      <td>40272</td>\n",
       "      <td>115241097</td>\n",
       "      <td>WREH18805592939657</td>\n",
       "      <td>Reese-Mckinney</td>\n",
       "      <td>20 Garfield Street</td>\n",
       "      <td>NaN</td>\n",
       "      <td>Needham</td>\n",
       "      <td>MA</td>\n",
       "      <td>2492.0</td>\n",
       "      <td>0</td>\n",
       "    </tr>\n",
       "    <tr>\n",
       "      <th>9998</th>\n",
       "      <td>2021-06-30 00:00:00</td>\n",
       "      <td>TXN00009999</td>\n",
       "      <td>A00006694</td>\n",
       "      <td>PLC00001781</td>\n",
       "      <td>2016-01-29</td>\n",
       "      <td>2021-06-16</td>\n",
       "      <td>2021-06-21</td>\n",
       "      <td>Motor</td>\n",
       "      <td>113.46</td>\n",
       "      <td>2000</td>\n",
       "      <td>...</td>\n",
       "      <td>72703</td>\n",
       "      <td>13995380</td>\n",
       "      <td>AAZI21883736448048</td>\n",
       "      <td>Harmon, Manning and Bradley</td>\n",
       "      <td>1823 Dinger Road</td>\n",
       "      <td>NaN</td>\n",
       "      <td>Annapolis</td>\n",
       "      <td>MD</td>\n",
       "      <td>21402.0</td>\n",
       "      <td>0</td>\n",
       "    </tr>\n",
       "    <tr>\n",
       "      <th>9999</th>\n",
       "      <td>2021-06-30 00:00:00</td>\n",
       "      <td>TXN00010000</td>\n",
       "      <td>A00000390</td>\n",
       "      <td>PLC00005197</td>\n",
       "      <td>2014-09-17</td>\n",
       "      <td>2021-06-21</td>\n",
       "      <td>2021-06-24</td>\n",
       "      <td>Mobile</td>\n",
       "      <td>8.22</td>\n",
       "      <td>300</td>\n",
       "      <td>...</td>\n",
       "      <td>73003</td>\n",
       "      <td>39790996</td>\n",
       "      <td>RPES05613584687957</td>\n",
       "      <td>Foster-Sanchez</td>\n",
       "      <td>4255 Tanager Common</td>\n",
       "      <td>NaN</td>\n",
       "      <td>Fremont</td>\n",
       "      <td>CA</td>\n",
       "      <td>94555.0</td>\n",
       "      <td>0</td>\n",
       "    </tr>\n",
       "  </tbody>\n",
       "</table>\n",
       "<p>10000 rows × 54 columns</p>\n",
       "</div>"
      ],
      "text/plain": [
       "            TXN_DATE_TIME TRANSACTION_ID CUSTOMER_ID POLICY_NUMBER  \\\n",
       "0     2020-06-01 00:00:00    TXN00000001   A00003822   PLC00008468   \n",
       "1     2020-06-01 00:00:00    TXN00000002   A00008149   PLC00009594   \n",
       "2     2020-06-01 00:00:00    TXN00000003   A00003172   PLC00007969   \n",
       "3     2020-06-01 00:00:00    TXN00000004   A00007572   PLC00009292   \n",
       "4     2020-06-01 00:00:00    TXN00000005   A00008173   PLC00000204   \n",
       "...                   ...            ...         ...           ...   \n",
       "9995  2021-06-30 00:00:00    TXN00009996   A00006029   PLC00007245   \n",
       "9996  2021-06-30 00:00:00    TXN00009997   A00003555   PLC00002590   \n",
       "9997  2021-06-30 00:00:00    TXN00009998   A00004230   PLC00006613   \n",
       "9998  2021-06-30 00:00:00    TXN00009999   A00006694   PLC00001781   \n",
       "9999  2021-06-30 00:00:00    TXN00010000   A00000390   PLC00005197   \n",
       "\n",
       "     POLICY_EFF_DT     LOSS_DT   REPORT_DT INSURANCE_TYPE  PREMIUM_AMOUNT  \\\n",
       "0       2015-06-23  2020-05-16  2020-05-21         Health          157.13   \n",
       "1       2018-04-21  2020-05-13  2020-05-18       Property          141.71   \n",
       "2       2019-10-03  2020-05-21  2020-05-26       Property          157.24   \n",
       "3       2016-11-29  2020-05-14  2020-05-19         Health          172.87   \n",
       "4       2011-12-26  2020-05-17  2020-05-22         Travel           88.53   \n",
       "...            ...         ...         ...            ...             ...   \n",
       "9995    2014-04-11  2021-06-25  2021-06-26          Motor          105.75   \n",
       "9996    2015-08-25  2021-06-12  2021-06-17           Life           64.59   \n",
       "9997    2018-10-11  2021-06-18  2021-06-23         Health          183.50   \n",
       "9998    2016-01-29  2021-06-16  2021-06-21          Motor          113.46   \n",
       "9999    2014-09-17  2021-06-21  2021-06-24         Mobile            8.22   \n",
       "\n",
       "      CLAIM_AMOUNT  ... POSTAL_CODE_y EMP_ROUTING_NUMBER     EMP_ACCT_NUMBER  \\\n",
       "0             9000  ...         37217           35441155  LRZO53254369804934   \n",
       "1            26000  ...         85301           44055451  XBYG14382904542874   \n",
       "2            13000  ...         36105           55770246  WRXH14597428306333   \n",
       "3            16000  ...         73071           87652976  YEPN16077902472499   \n",
       "4             3000  ...         21061           76119019  HZBK86544578578547   \n",
       "...            ...  ...           ...                ...                 ...   \n",
       "9995          1000  ...         72703           35413882  LFOJ76068590051807   \n",
       "9996         67000  ...         31405           91206790  AHEF60771774635030   \n",
       "9997          8000  ...         40272          115241097  WREH18805592939657   \n",
       "9998          2000  ...         72703           13995380  AAZI21883736448048   \n",
       "9999           300  ...         73003           39790996  RPES05613584687957   \n",
       "\n",
       "                           VENDOR_NAME              ADDRESS_LINE1  \\\n",
       "0                           Ramsey Inc       3114 West 20th Court   \n",
       "1     Morales, Campbell and Washington      42 West Louise Street   \n",
       "2                          Johnson Ltd    2619 North Quality Lane   \n",
       "3                     Blackwell-Foster          3609 Meadow Drive   \n",
       "4                          Evans-Scott  4001 19th Place Northeast   \n",
       "...                                ...                        ...   \n",
       "9995                               NaN                        NaN   \n",
       "9996          Newton, Hodges and Henry      32512 Christine Drive   \n",
       "9997                    Reese-Mckinney         20 Garfield Street   \n",
       "9998       Harmon, Manning and Bradley           1823 Dinger Road   \n",
       "9999                    Foster-Sanchez        4255 Tanager Common   \n",
       "\n",
       "      ADDRESS_LINE2          CITY STATE  POSTAL_CODE  COLOCATION  \n",
       "0               NaN   Panama City    FL      32405.0           0  \n",
       "1                 B  Fayetteville    AR      72701.0           0  \n",
       "2              #315  Fayetteville    AR      72703.0           0  \n",
       "3               NaN     Nashville    TN      37215.0           0  \n",
       "4               NaN    Washington    DC      20018.0           0  \n",
       "...             ...           ...   ...          ...         ...  \n",
       "9995            NaN           NaN   NaN          NaN           0  \n",
       "9996            NaN    Union City    CA      94587.0           0  \n",
       "9997            NaN       Needham    MA       2492.0           0  \n",
       "9998            NaN     Annapolis    MD      21402.0           0  \n",
       "9999            NaN       Fremont    CA      94555.0           0  \n",
       "\n",
       "[10000 rows x 54 columns]"
      ]
     },
     "execution_count": 11,
     "metadata": {},
     "output_type": "execute_result"
    }
   ],
   "source": [
    "# ADDING COLUMN with condition given in ques\n",
    "df[\"COLOCATION\"]=  ((df['STATE_x']== df['INCIDENT_STATE']) & (df['INCIDENT_STATE']==df['STATE_y'])).map({True:1 ,False:0})\n",
    "df"
   ]
  },
  {
   "cell_type": "code",
   "execution_count": 12,
   "metadata": {
    "colab": {
     "base_uri": "https://localhost:8080/"
    },
    "id": "m-Fqih47Jwyj",
    "outputId": "41530622-34db-495b-bb8f-10cf63f19860"
   },
   "outputs": [
    {
     "data": {
      "text/plain": [
       "0.0044"
      ]
     },
     "execution_count": 12,
     "metadata": {},
     "output_type": "execute_result"
    }
   ],
   "source": [
    "# Mean of COLOCATION\n",
    "df[\"COLOCATION\"].mean()"
   ]
  },
  {
   "cell_type": "markdown",
   "metadata": {
    "id": "kQZrEvyQiBuD"
   },
   "source": [
    "# TASK 5\n"
   ]
  },
  {
   "cell_type": "code",
   "execution_count": 13,
   "metadata": {
    "colab": {
     "base_uri": "https://localhost:8080/",
     "height": 704
    },
    "id": "C44MwEXtJ05U",
    "outputId": "32b23fb5-854a-47ea-fe6b-1024203afa7a"
   },
   "outputs": [
    {
     "data": {
      "text/html": [
       "<div>\n",
       "<style scoped>\n",
       "    .dataframe tbody tr th:only-of-type {\n",
       "        vertical-align: middle;\n",
       "    }\n",
       "\n",
       "    .dataframe tbody tr th {\n",
       "        vertical-align: top;\n",
       "    }\n",
       "\n",
       "    .dataframe thead th {\n",
       "        text-align: right;\n",
       "    }\n",
       "</style>\n",
       "<table border=\"1\" class=\"dataframe\">\n",
       "  <thead>\n",
       "    <tr style=\"text-align: right;\">\n",
       "      <th></th>\n",
       "      <th>TXN_DATE_TIME</th>\n",
       "      <th>TRANSACTION_ID</th>\n",
       "      <th>CUSTOMER_ID</th>\n",
       "      <th>POLICY_NUMBER</th>\n",
       "      <th>POLICY_EFF_DT</th>\n",
       "      <th>LOSS_DT</th>\n",
       "      <th>REPORT_DT</th>\n",
       "      <th>INSURANCE_TYPE</th>\n",
       "      <th>PREMIUM_AMOUNT</th>\n",
       "      <th>CLAIM_AMOUNT</th>\n",
       "      <th>...</th>\n",
       "      <th>POSTAL_CODE_y</th>\n",
       "      <th>EMP_ROUTING_NUMBER</th>\n",
       "      <th>EMP_ACCT_NUMBER</th>\n",
       "      <th>VENDOR_NAME</th>\n",
       "      <th>ADDRESS_LINE1</th>\n",
       "      <th>ADDRESS_LINE2</th>\n",
       "      <th>CITY</th>\n",
       "      <th>STATE</th>\n",
       "      <th>POSTAL_CODE</th>\n",
       "      <th>COLOCATION</th>\n",
       "    </tr>\n",
       "  </thead>\n",
       "  <tbody>\n",
       "    <tr>\n",
       "      <th>0</th>\n",
       "      <td>2020-06-01 00:00:00</td>\n",
       "      <td>TXN00000001</td>\n",
       "      <td>A00003822</td>\n",
       "      <td>PLC00008468</td>\n",
       "      <td>2015-06-23</td>\n",
       "      <td>2020-05-16</td>\n",
       "      <td>2020-05-21</td>\n",
       "      <td>Health</td>\n",
       "      <td>157.13</td>\n",
       "      <td>9000</td>\n",
       "      <td>...</td>\n",
       "      <td>37217</td>\n",
       "      <td>35441155</td>\n",
       "      <td>LRZO53254369804934</td>\n",
       "      <td>Ramsey Inc</td>\n",
       "      <td>3114 West 20th Court</td>\n",
       "      <td>NaN</td>\n",
       "      <td>Panama City</td>\n",
       "      <td>FL</td>\n",
       "      <td>32405.0</td>\n",
       "      <td>0</td>\n",
       "    </tr>\n",
       "    <tr>\n",
       "      <th>1</th>\n",
       "      <td>2020-06-01 00:00:00</td>\n",
       "      <td>TXN00000002</td>\n",
       "      <td>A00008149</td>\n",
       "      <td>PLC00009594</td>\n",
       "      <td>2018-04-21</td>\n",
       "      <td>2020-05-13</td>\n",
       "      <td>2020-05-18</td>\n",
       "      <td>Property</td>\n",
       "      <td>141.71</td>\n",
       "      <td>26000</td>\n",
       "      <td>...</td>\n",
       "      <td>85301</td>\n",
       "      <td>44055451</td>\n",
       "      <td>XBYG14382904542874</td>\n",
       "      <td>Morales, Campbell and Washington</td>\n",
       "      <td>42 West Louise Street</td>\n",
       "      <td>B</td>\n",
       "      <td>Fayetteville</td>\n",
       "      <td>AR</td>\n",
       "      <td>72701.0</td>\n",
       "      <td>0</td>\n",
       "    </tr>\n",
       "    <tr>\n",
       "      <th>2</th>\n",
       "      <td>2020-06-01 00:00:00</td>\n",
       "      <td>TXN00000003</td>\n",
       "      <td>A00003172</td>\n",
       "      <td>PLC00007969</td>\n",
       "      <td>2019-10-03</td>\n",
       "      <td>2020-05-21</td>\n",
       "      <td>2020-05-26</td>\n",
       "      <td>Property</td>\n",
       "      <td>157.24</td>\n",
       "      <td>13000</td>\n",
       "      <td>...</td>\n",
       "      <td>36105</td>\n",
       "      <td>55770246</td>\n",
       "      <td>WRXH14597428306333</td>\n",
       "      <td>Johnson Ltd</td>\n",
       "      <td>2619 North Quality Lane</td>\n",
       "      <td>#315</td>\n",
       "      <td>Fayetteville</td>\n",
       "      <td>AR</td>\n",
       "      <td>72703.0</td>\n",
       "      <td>0</td>\n",
       "    </tr>\n",
       "    <tr>\n",
       "      <th>3</th>\n",
       "      <td>2020-06-01 00:00:00</td>\n",
       "      <td>TXN00000004</td>\n",
       "      <td>A00007572</td>\n",
       "      <td>PLC00009292</td>\n",
       "      <td>2016-11-29</td>\n",
       "      <td>2020-05-14</td>\n",
       "      <td>2020-05-19</td>\n",
       "      <td>Health</td>\n",
       "      <td>172.87</td>\n",
       "      <td>16000</td>\n",
       "      <td>...</td>\n",
       "      <td>73071</td>\n",
       "      <td>87652976</td>\n",
       "      <td>YEPN16077902472499</td>\n",
       "      <td>Blackwell-Foster</td>\n",
       "      <td>3609 Meadow Drive</td>\n",
       "      <td>NaN</td>\n",
       "      <td>Nashville</td>\n",
       "      <td>TN</td>\n",
       "      <td>37215.0</td>\n",
       "      <td>0</td>\n",
       "    </tr>\n",
       "    <tr>\n",
       "      <th>4</th>\n",
       "      <td>2020-06-01 00:00:00</td>\n",
       "      <td>TXN00000005</td>\n",
       "      <td>A00008173</td>\n",
       "      <td>PLC00000204</td>\n",
       "      <td>2011-12-26</td>\n",
       "      <td>2020-05-17</td>\n",
       "      <td>2020-05-22</td>\n",
       "      <td>Travel</td>\n",
       "      <td>88.53</td>\n",
       "      <td>3000</td>\n",
       "      <td>...</td>\n",
       "      <td>21061</td>\n",
       "      <td>76119019</td>\n",
       "      <td>HZBK86544578578547</td>\n",
       "      <td>Evans-Scott</td>\n",
       "      <td>4001 19th Place Northeast</td>\n",
       "      <td>NaN</td>\n",
       "      <td>Washington</td>\n",
       "      <td>DC</td>\n",
       "      <td>20018.0</td>\n",
       "      <td>0</td>\n",
       "    </tr>\n",
       "    <tr>\n",
       "      <th>...</th>\n",
       "      <td>...</td>\n",
       "      <td>...</td>\n",
       "      <td>...</td>\n",
       "      <td>...</td>\n",
       "      <td>...</td>\n",
       "      <td>...</td>\n",
       "      <td>...</td>\n",
       "      <td>...</td>\n",
       "      <td>...</td>\n",
       "      <td>...</td>\n",
       "      <td>...</td>\n",
       "      <td>...</td>\n",
       "      <td>...</td>\n",
       "      <td>...</td>\n",
       "      <td>...</td>\n",
       "      <td>...</td>\n",
       "      <td>...</td>\n",
       "      <td>...</td>\n",
       "      <td>...</td>\n",
       "      <td>...</td>\n",
       "      <td>...</td>\n",
       "    </tr>\n",
       "    <tr>\n",
       "      <th>9995</th>\n",
       "      <td>2021-06-30 00:00:00</td>\n",
       "      <td>TXN00009996</td>\n",
       "      <td>A00006029</td>\n",
       "      <td>PLC00007245</td>\n",
       "      <td>2014-04-11</td>\n",
       "      <td>2021-06-25</td>\n",
       "      <td>2021-06-26</td>\n",
       "      <td>Motor</td>\n",
       "      <td>105.75</td>\n",
       "      <td>1000</td>\n",
       "      <td>...</td>\n",
       "      <td>72703</td>\n",
       "      <td>35413882</td>\n",
       "      <td>LFOJ76068590051807</td>\n",
       "      <td>NaN</td>\n",
       "      <td>NaN</td>\n",
       "      <td>NaN</td>\n",
       "      <td>NaN</td>\n",
       "      <td>NaN</td>\n",
       "      <td>NaN</td>\n",
       "      <td>0</td>\n",
       "    </tr>\n",
       "    <tr>\n",
       "      <th>9996</th>\n",
       "      <td>2021-06-30 00:00:00</td>\n",
       "      <td>TXN00009997</td>\n",
       "      <td>A00003555</td>\n",
       "      <td>PLC00002590</td>\n",
       "      <td>2015-08-25</td>\n",
       "      <td>2021-06-12</td>\n",
       "      <td>2021-06-17</td>\n",
       "      <td>Life</td>\n",
       "      <td>64.59</td>\n",
       "      <td>67000</td>\n",
       "      <td>...</td>\n",
       "      <td>31405</td>\n",
       "      <td>91206790</td>\n",
       "      <td>AHEF60771774635030</td>\n",
       "      <td>Newton, Hodges and Henry</td>\n",
       "      <td>32512 Christine Drive</td>\n",
       "      <td>NaN</td>\n",
       "      <td>Union City</td>\n",
       "      <td>CA</td>\n",
       "      <td>94587.0</td>\n",
       "      <td>0</td>\n",
       "    </tr>\n",
       "    <tr>\n",
       "      <th>9997</th>\n",
       "      <td>2021-06-30 00:00:00</td>\n",
       "      <td>TXN00009998</td>\n",
       "      <td>A00004230</td>\n",
       "      <td>PLC00006613</td>\n",
       "      <td>2018-10-11</td>\n",
       "      <td>2021-06-18</td>\n",
       "      <td>2021-06-23</td>\n",
       "      <td>Health</td>\n",
       "      <td>183.50</td>\n",
       "      <td>8000</td>\n",
       "      <td>...</td>\n",
       "      <td>40272</td>\n",
       "      <td>115241097</td>\n",
       "      <td>WREH18805592939657</td>\n",
       "      <td>Reese-Mckinney</td>\n",
       "      <td>20 Garfield Street</td>\n",
       "      <td>NaN</td>\n",
       "      <td>Needham</td>\n",
       "      <td>MA</td>\n",
       "      <td>2492.0</td>\n",
       "      <td>0</td>\n",
       "    </tr>\n",
       "    <tr>\n",
       "      <th>9998</th>\n",
       "      <td>2021-06-30 00:00:00</td>\n",
       "      <td>TXN00009999</td>\n",
       "      <td>A00006694</td>\n",
       "      <td>PLC00001781</td>\n",
       "      <td>2016-01-29</td>\n",
       "      <td>2021-06-16</td>\n",
       "      <td>2021-06-21</td>\n",
       "      <td>Motor</td>\n",
       "      <td>113.46</td>\n",
       "      <td>2000</td>\n",
       "      <td>...</td>\n",
       "      <td>72703</td>\n",
       "      <td>13995380</td>\n",
       "      <td>AAZI21883736448048</td>\n",
       "      <td>Harmon, Manning and Bradley</td>\n",
       "      <td>1823 Dinger Road</td>\n",
       "      <td>NaN</td>\n",
       "      <td>Annapolis</td>\n",
       "      <td>MD</td>\n",
       "      <td>21402.0</td>\n",
       "      <td>0</td>\n",
       "    </tr>\n",
       "    <tr>\n",
       "      <th>9999</th>\n",
       "      <td>2021-06-30 00:00:00</td>\n",
       "      <td>TXN00010000</td>\n",
       "      <td>A00000390</td>\n",
       "      <td>PLC00005197</td>\n",
       "      <td>2014-09-17</td>\n",
       "      <td>2021-06-21</td>\n",
       "      <td>2021-06-24</td>\n",
       "      <td>Mobile</td>\n",
       "      <td>8.22</td>\n",
       "      <td>300</td>\n",
       "      <td>...</td>\n",
       "      <td>73003</td>\n",
       "      <td>39790996</td>\n",
       "      <td>RPES05613584687957</td>\n",
       "      <td>Foster-Sanchez</td>\n",
       "      <td>4255 Tanager Common</td>\n",
       "      <td>NaN</td>\n",
       "      <td>Fremont</td>\n",
       "      <td>CA</td>\n",
       "      <td>94555.0</td>\n",
       "      <td>0</td>\n",
       "    </tr>\n",
       "  </tbody>\n",
       "</table>\n",
       "<p>10000 rows × 54 columns</p>\n",
       "</div>"
      ],
      "text/plain": [
       "            TXN_DATE_TIME TRANSACTION_ID CUSTOMER_ID POLICY_NUMBER  \\\n",
       "0     2020-06-01 00:00:00    TXN00000001   A00003822   PLC00008468   \n",
       "1     2020-06-01 00:00:00    TXN00000002   A00008149   PLC00009594   \n",
       "2     2020-06-01 00:00:00    TXN00000003   A00003172   PLC00007969   \n",
       "3     2020-06-01 00:00:00    TXN00000004   A00007572   PLC00009292   \n",
       "4     2020-06-01 00:00:00    TXN00000005   A00008173   PLC00000204   \n",
       "...                   ...            ...         ...           ...   \n",
       "9995  2021-06-30 00:00:00    TXN00009996   A00006029   PLC00007245   \n",
       "9996  2021-06-30 00:00:00    TXN00009997   A00003555   PLC00002590   \n",
       "9997  2021-06-30 00:00:00    TXN00009998   A00004230   PLC00006613   \n",
       "9998  2021-06-30 00:00:00    TXN00009999   A00006694   PLC00001781   \n",
       "9999  2021-06-30 00:00:00    TXN00010000   A00000390   PLC00005197   \n",
       "\n",
       "     POLICY_EFF_DT     LOSS_DT   REPORT_DT INSURANCE_TYPE  PREMIUM_AMOUNT  \\\n",
       "0       2015-06-23  2020-05-16  2020-05-21         Health          157.13   \n",
       "1       2018-04-21  2020-05-13  2020-05-18       Property          141.71   \n",
       "2       2019-10-03  2020-05-21  2020-05-26       Property          157.24   \n",
       "3       2016-11-29  2020-05-14  2020-05-19         Health          172.87   \n",
       "4       2011-12-26  2020-05-17  2020-05-22         Travel           88.53   \n",
       "...            ...         ...         ...            ...             ...   \n",
       "9995    2014-04-11  2021-06-25  2021-06-26          Motor          105.75   \n",
       "9996    2015-08-25  2021-06-12  2021-06-17           Life           64.59   \n",
       "9997    2018-10-11  2021-06-18  2021-06-23         Health          183.50   \n",
       "9998    2016-01-29  2021-06-16  2021-06-21          Motor          113.46   \n",
       "9999    2014-09-17  2021-06-21  2021-06-24         Mobile            8.22   \n",
       "\n",
       "      CLAIM_AMOUNT  ... POSTAL_CODE_y EMP_ROUTING_NUMBER     EMP_ACCT_NUMBER  \\\n",
       "0             9000  ...         37217           35441155  LRZO53254369804934   \n",
       "1            26000  ...         85301           44055451  XBYG14382904542874   \n",
       "2            13000  ...         36105           55770246  WRXH14597428306333   \n",
       "3            16000  ...         73071           87652976  YEPN16077902472499   \n",
       "4             3000  ...         21061           76119019  HZBK86544578578547   \n",
       "...            ...  ...           ...                ...                 ...   \n",
       "9995          1000  ...         72703           35413882  LFOJ76068590051807   \n",
       "9996         67000  ...         31405           91206790  AHEF60771774635030   \n",
       "9997          8000  ...         40272          115241097  WREH18805592939657   \n",
       "9998          2000  ...         72703           13995380  AAZI21883736448048   \n",
       "9999           300  ...         73003           39790996  RPES05613584687957   \n",
       "\n",
       "                           VENDOR_NAME              ADDRESS_LINE1  \\\n",
       "0                           Ramsey Inc       3114 West 20th Court   \n",
       "1     Morales, Campbell and Washington      42 West Louise Street   \n",
       "2                          Johnson Ltd    2619 North Quality Lane   \n",
       "3                     Blackwell-Foster          3609 Meadow Drive   \n",
       "4                          Evans-Scott  4001 19th Place Northeast   \n",
       "...                                ...                        ...   \n",
       "9995                               NaN                        NaN   \n",
       "9996          Newton, Hodges and Henry      32512 Christine Drive   \n",
       "9997                    Reese-Mckinney         20 Garfield Street   \n",
       "9998       Harmon, Manning and Bradley           1823 Dinger Road   \n",
       "9999                    Foster-Sanchez        4255 Tanager Common   \n",
       "\n",
       "      ADDRESS_LINE2          CITY STATE  POSTAL_CODE  COLOCATION  \n",
       "0               NaN   Panama City    FL      32405.0           0  \n",
       "1                 B  Fayetteville    AR      72701.0           0  \n",
       "2              #315  Fayetteville    AR      72703.0           0  \n",
       "3               NaN     Nashville    TN      37215.0           0  \n",
       "4               NaN    Washington    DC      20018.0           0  \n",
       "...             ...           ...   ...          ...         ...  \n",
       "9995            NaN           NaN   NaN          NaN           0  \n",
       "9996            NaN    Union City    CA      94587.0           0  \n",
       "9997            NaN       Needham    MA       2492.0           0  \n",
       "9998            NaN     Annapolis    MD      21402.0           0  \n",
       "9999            NaN       Fremont    CA      94555.0           0  \n",
       "\n",
       "[10000 rows x 54 columns]"
      ]
     },
     "execution_count": 13,
     "metadata": {},
     "output_type": "execute_result"
    }
   ],
   "source": [
    "#UPDATING the AUTHORITY_CONTACTED column\n",
    "df.loc[(df[\"POLICE_REPORT_AVAILABLE\"] == 1)&(df['AUTHORITY_CONTACTED']!='Police'),\"AUTHORITY_CONTACTED\"]=\"Police\"\n",
    "df\n"
   ]
  },
  {
   "cell_type": "markdown",
   "metadata": {
    "id": "pHxtyuNfitP_"
   },
   "source": [
    "# TASK 6"
   ]
  },
  {
   "cell_type": "code",
   "execution_count": 14,
   "metadata": {
    "colab": {
     "base_uri": "https://localhost:8080/",
     "height": 37
    },
    "id": "-BuGf8qOKANP",
    "outputId": "e8eb38d6-a367-4c29-9e92-ff413abb68d1"
   },
   "outputs": [
    {
     "data": {
      "text/plain": [
       "'2021-06-30 00:00:00'"
      ]
     },
     "execution_count": 14,
     "metadata": {},
     "output_type": "execute_result"
    }
   ],
   "source": [
    "# MAX date in dataset\n",
    "df.TXN_DATE_TIME.max()"
   ]
  },
  {
   "cell_type": "code",
   "execution_count": 15,
   "metadata": {
    "id": "WQxUqXizKb6w"
   },
   "outputs": [],
   "source": [
    "#Current date is the max date of the dataset\n",
    "C_Date = pd.to_datetime('2021-06-30')"
   ]
  },
  {
   "cell_type": "code",
   "execution_count": 16,
   "metadata": {
    "id": "DDdPzYq4KhRs"
   },
   "outputs": [],
   "source": [
    "# converting column to datetime\n",
    "df['TXN_DATE_TIME'] = pd.to_datetime(df['TXN_DATE_TIME'])"
   ]
  },
  {
   "cell_type": "code",
   "execution_count": 17,
   "metadata": {
    "id": "_DH1_yctKkpE"
   },
   "outputs": [],
   "source": [
    "# data of last 30 days\n",
    "Last_30_Days = df.loc[(df['TXN_DATE_TIME'] > '2021-05-30') & (df['TXN_DATE_TIME'] < '2021-06-30')] "
   ]
  },
  {
   "cell_type": "code",
   "execution_count": 18,
   "metadata": {
    "id": "j5xRSTmrKwV_"
   },
   "outputs": [],
   "source": [
    "# AVERAGE CLaim of last 30 days\n",
    "AVERAGE_CLAIM = Last_30_Days.groupby('INSURANCE_TYPE').mean()['CLAIM_AMOUNT'].to_dict()"
   ]
  },
  {
   "cell_type": "code",
   "execution_count": 19,
   "metadata": {
    "id": "iWxiL6DQLENI"
   },
   "outputs": [],
   "source": [
    "#calculating claim deviation\n",
    "def Claim_deviation(row):\n",
    "    if (C_Date - row['TXN_DATE_TIME'])<pd.Timedelta(days=30):\n",
    "        return -1\n",
    "    ClAIM_DEVIATION = AVERAGE_CLAIM[row['INSURANCE_TYPE']] / row['CLAIM_AMOUNT']\n",
    "    if ClAIM_DEVIATION < 0.5:\n",
    "        return 1\n",
    "    else:\n",
    "        return 0"
   ]
  },
  {
   "cell_type": "code",
   "execution_count": 20,
   "metadata": {
    "id": "chBxpgAWLX_D"
   },
   "outputs": [],
   "source": [
    "\n",
    "df['CLAIM_DEVIATION'] = df.apply(Claim_deviation,axis=1)"
   ]
  },
  {
   "cell_type": "code",
   "execution_count": 21,
   "metadata": {
    "colab": {
     "base_uri": "https://localhost:8080/",
     "height": 704
    },
    "id": "k9ZMW6-6Lg1Y",
    "outputId": "1408f547-8e18-44f8-84bb-d4eed918626b"
   },
   "outputs": [
    {
     "data": {
      "text/html": [
       "<div>\n",
       "<style scoped>\n",
       "    .dataframe tbody tr th:only-of-type {\n",
       "        vertical-align: middle;\n",
       "    }\n",
       "\n",
       "    .dataframe tbody tr th {\n",
       "        vertical-align: top;\n",
       "    }\n",
       "\n",
       "    .dataframe thead th {\n",
       "        text-align: right;\n",
       "    }\n",
       "</style>\n",
       "<table border=\"1\" class=\"dataframe\">\n",
       "  <thead>\n",
       "    <tr style=\"text-align: right;\">\n",
       "      <th></th>\n",
       "      <th>TXN_DATE_TIME</th>\n",
       "      <th>TRANSACTION_ID</th>\n",
       "      <th>CUSTOMER_ID</th>\n",
       "      <th>POLICY_NUMBER</th>\n",
       "      <th>POLICY_EFF_DT</th>\n",
       "      <th>LOSS_DT</th>\n",
       "      <th>REPORT_DT</th>\n",
       "      <th>INSURANCE_TYPE</th>\n",
       "      <th>PREMIUM_AMOUNT</th>\n",
       "      <th>CLAIM_AMOUNT</th>\n",
       "      <th>...</th>\n",
       "      <th>EMP_ROUTING_NUMBER</th>\n",
       "      <th>EMP_ACCT_NUMBER</th>\n",
       "      <th>VENDOR_NAME</th>\n",
       "      <th>ADDRESS_LINE1</th>\n",
       "      <th>ADDRESS_LINE2</th>\n",
       "      <th>CITY</th>\n",
       "      <th>STATE</th>\n",
       "      <th>POSTAL_CODE</th>\n",
       "      <th>COLOCATION</th>\n",
       "      <th>CLAIM_DEVIATION</th>\n",
       "    </tr>\n",
       "  </thead>\n",
       "  <tbody>\n",
       "    <tr>\n",
       "      <th>0</th>\n",
       "      <td>2020-06-01</td>\n",
       "      <td>TXN00000001</td>\n",
       "      <td>A00003822</td>\n",
       "      <td>PLC00008468</td>\n",
       "      <td>2015-06-23</td>\n",
       "      <td>2020-05-16</td>\n",
       "      <td>2020-05-21</td>\n",
       "      <td>Health</td>\n",
       "      <td>157.13</td>\n",
       "      <td>9000</td>\n",
       "      <td>...</td>\n",
       "      <td>35441155</td>\n",
       "      <td>LRZO53254369804934</td>\n",
       "      <td>Ramsey Inc</td>\n",
       "      <td>3114 West 20th Court</td>\n",
       "      <td>NaN</td>\n",
       "      <td>Panama City</td>\n",
       "      <td>FL</td>\n",
       "      <td>32405.0</td>\n",
       "      <td>0</td>\n",
       "      <td>0</td>\n",
       "    </tr>\n",
       "    <tr>\n",
       "      <th>1</th>\n",
       "      <td>2020-06-01</td>\n",
       "      <td>TXN00000002</td>\n",
       "      <td>A00008149</td>\n",
       "      <td>PLC00009594</td>\n",
       "      <td>2018-04-21</td>\n",
       "      <td>2020-05-13</td>\n",
       "      <td>2020-05-18</td>\n",
       "      <td>Property</td>\n",
       "      <td>141.71</td>\n",
       "      <td>26000</td>\n",
       "      <td>...</td>\n",
       "      <td>44055451</td>\n",
       "      <td>XBYG14382904542874</td>\n",
       "      <td>Morales, Campbell and Washington</td>\n",
       "      <td>42 West Louise Street</td>\n",
       "      <td>B</td>\n",
       "      <td>Fayetteville</td>\n",
       "      <td>AR</td>\n",
       "      <td>72701.0</td>\n",
       "      <td>0</td>\n",
       "      <td>0</td>\n",
       "    </tr>\n",
       "    <tr>\n",
       "      <th>2</th>\n",
       "      <td>2020-06-01</td>\n",
       "      <td>TXN00000003</td>\n",
       "      <td>A00003172</td>\n",
       "      <td>PLC00007969</td>\n",
       "      <td>2019-10-03</td>\n",
       "      <td>2020-05-21</td>\n",
       "      <td>2020-05-26</td>\n",
       "      <td>Property</td>\n",
       "      <td>157.24</td>\n",
       "      <td>13000</td>\n",
       "      <td>...</td>\n",
       "      <td>55770246</td>\n",
       "      <td>WRXH14597428306333</td>\n",
       "      <td>Johnson Ltd</td>\n",
       "      <td>2619 North Quality Lane</td>\n",
       "      <td>#315</td>\n",
       "      <td>Fayetteville</td>\n",
       "      <td>AR</td>\n",
       "      <td>72703.0</td>\n",
       "      <td>0</td>\n",
       "      <td>0</td>\n",
       "    </tr>\n",
       "    <tr>\n",
       "      <th>3</th>\n",
       "      <td>2020-06-01</td>\n",
       "      <td>TXN00000004</td>\n",
       "      <td>A00007572</td>\n",
       "      <td>PLC00009292</td>\n",
       "      <td>2016-11-29</td>\n",
       "      <td>2020-05-14</td>\n",
       "      <td>2020-05-19</td>\n",
       "      <td>Health</td>\n",
       "      <td>172.87</td>\n",
       "      <td>16000</td>\n",
       "      <td>...</td>\n",
       "      <td>87652976</td>\n",
       "      <td>YEPN16077902472499</td>\n",
       "      <td>Blackwell-Foster</td>\n",
       "      <td>3609 Meadow Drive</td>\n",
       "      <td>NaN</td>\n",
       "      <td>Nashville</td>\n",
       "      <td>TN</td>\n",
       "      <td>37215.0</td>\n",
       "      <td>0</td>\n",
       "      <td>0</td>\n",
       "    </tr>\n",
       "    <tr>\n",
       "      <th>4</th>\n",
       "      <td>2020-06-01</td>\n",
       "      <td>TXN00000005</td>\n",
       "      <td>A00008173</td>\n",
       "      <td>PLC00000204</td>\n",
       "      <td>2011-12-26</td>\n",
       "      <td>2020-05-17</td>\n",
       "      <td>2020-05-22</td>\n",
       "      <td>Travel</td>\n",
       "      <td>88.53</td>\n",
       "      <td>3000</td>\n",
       "      <td>...</td>\n",
       "      <td>76119019</td>\n",
       "      <td>HZBK86544578578547</td>\n",
       "      <td>Evans-Scott</td>\n",
       "      <td>4001 19th Place Northeast</td>\n",
       "      <td>NaN</td>\n",
       "      <td>Washington</td>\n",
       "      <td>DC</td>\n",
       "      <td>20018.0</td>\n",
       "      <td>0</td>\n",
       "      <td>0</td>\n",
       "    </tr>\n",
       "    <tr>\n",
       "      <th>...</th>\n",
       "      <td>...</td>\n",
       "      <td>...</td>\n",
       "      <td>...</td>\n",
       "      <td>...</td>\n",
       "      <td>...</td>\n",
       "      <td>...</td>\n",
       "      <td>...</td>\n",
       "      <td>...</td>\n",
       "      <td>...</td>\n",
       "      <td>...</td>\n",
       "      <td>...</td>\n",
       "      <td>...</td>\n",
       "      <td>...</td>\n",
       "      <td>...</td>\n",
       "      <td>...</td>\n",
       "      <td>...</td>\n",
       "      <td>...</td>\n",
       "      <td>...</td>\n",
       "      <td>...</td>\n",
       "      <td>...</td>\n",
       "      <td>...</td>\n",
       "    </tr>\n",
       "    <tr>\n",
       "      <th>9995</th>\n",
       "      <td>2021-06-30</td>\n",
       "      <td>TXN00009996</td>\n",
       "      <td>A00006029</td>\n",
       "      <td>PLC00007245</td>\n",
       "      <td>2014-04-11</td>\n",
       "      <td>2021-06-25</td>\n",
       "      <td>2021-06-26</td>\n",
       "      <td>Motor</td>\n",
       "      <td>105.75</td>\n",
       "      <td>1000</td>\n",
       "      <td>...</td>\n",
       "      <td>35413882</td>\n",
       "      <td>LFOJ76068590051807</td>\n",
       "      <td>NaN</td>\n",
       "      <td>NaN</td>\n",
       "      <td>NaN</td>\n",
       "      <td>NaN</td>\n",
       "      <td>NaN</td>\n",
       "      <td>NaN</td>\n",
       "      <td>0</td>\n",
       "      <td>-1</td>\n",
       "    </tr>\n",
       "    <tr>\n",
       "      <th>9996</th>\n",
       "      <td>2021-06-30</td>\n",
       "      <td>TXN00009997</td>\n",
       "      <td>A00003555</td>\n",
       "      <td>PLC00002590</td>\n",
       "      <td>2015-08-25</td>\n",
       "      <td>2021-06-12</td>\n",
       "      <td>2021-06-17</td>\n",
       "      <td>Life</td>\n",
       "      <td>64.59</td>\n",
       "      <td>67000</td>\n",
       "      <td>...</td>\n",
       "      <td>91206790</td>\n",
       "      <td>AHEF60771774635030</td>\n",
       "      <td>Newton, Hodges and Henry</td>\n",
       "      <td>32512 Christine Drive</td>\n",
       "      <td>NaN</td>\n",
       "      <td>Union City</td>\n",
       "      <td>CA</td>\n",
       "      <td>94587.0</td>\n",
       "      <td>0</td>\n",
       "      <td>-1</td>\n",
       "    </tr>\n",
       "    <tr>\n",
       "      <th>9997</th>\n",
       "      <td>2021-06-30</td>\n",
       "      <td>TXN00009998</td>\n",
       "      <td>A00004230</td>\n",
       "      <td>PLC00006613</td>\n",
       "      <td>2018-10-11</td>\n",
       "      <td>2021-06-18</td>\n",
       "      <td>2021-06-23</td>\n",
       "      <td>Health</td>\n",
       "      <td>183.50</td>\n",
       "      <td>8000</td>\n",
       "      <td>...</td>\n",
       "      <td>115241097</td>\n",
       "      <td>WREH18805592939657</td>\n",
       "      <td>Reese-Mckinney</td>\n",
       "      <td>20 Garfield Street</td>\n",
       "      <td>NaN</td>\n",
       "      <td>Needham</td>\n",
       "      <td>MA</td>\n",
       "      <td>2492.0</td>\n",
       "      <td>0</td>\n",
       "      <td>-1</td>\n",
       "    </tr>\n",
       "    <tr>\n",
       "      <th>9998</th>\n",
       "      <td>2021-06-30</td>\n",
       "      <td>TXN00009999</td>\n",
       "      <td>A00006694</td>\n",
       "      <td>PLC00001781</td>\n",
       "      <td>2016-01-29</td>\n",
       "      <td>2021-06-16</td>\n",
       "      <td>2021-06-21</td>\n",
       "      <td>Motor</td>\n",
       "      <td>113.46</td>\n",
       "      <td>2000</td>\n",
       "      <td>...</td>\n",
       "      <td>13995380</td>\n",
       "      <td>AAZI21883736448048</td>\n",
       "      <td>Harmon, Manning and Bradley</td>\n",
       "      <td>1823 Dinger Road</td>\n",
       "      <td>NaN</td>\n",
       "      <td>Annapolis</td>\n",
       "      <td>MD</td>\n",
       "      <td>21402.0</td>\n",
       "      <td>0</td>\n",
       "      <td>-1</td>\n",
       "    </tr>\n",
       "    <tr>\n",
       "      <th>9999</th>\n",
       "      <td>2021-06-30</td>\n",
       "      <td>TXN00010000</td>\n",
       "      <td>A00000390</td>\n",
       "      <td>PLC00005197</td>\n",
       "      <td>2014-09-17</td>\n",
       "      <td>2021-06-21</td>\n",
       "      <td>2021-06-24</td>\n",
       "      <td>Mobile</td>\n",
       "      <td>8.22</td>\n",
       "      <td>300</td>\n",
       "      <td>...</td>\n",
       "      <td>39790996</td>\n",
       "      <td>RPES05613584687957</td>\n",
       "      <td>Foster-Sanchez</td>\n",
       "      <td>4255 Tanager Common</td>\n",
       "      <td>NaN</td>\n",
       "      <td>Fremont</td>\n",
       "      <td>CA</td>\n",
       "      <td>94555.0</td>\n",
       "      <td>0</td>\n",
       "      <td>-1</td>\n",
       "    </tr>\n",
       "  </tbody>\n",
       "</table>\n",
       "<p>10000 rows × 55 columns</p>\n",
       "</div>"
      ],
      "text/plain": [
       "     TXN_DATE_TIME TRANSACTION_ID CUSTOMER_ID POLICY_NUMBER POLICY_EFF_DT  \\\n",
       "0       2020-06-01    TXN00000001   A00003822   PLC00008468    2015-06-23   \n",
       "1       2020-06-01    TXN00000002   A00008149   PLC00009594    2018-04-21   \n",
       "2       2020-06-01    TXN00000003   A00003172   PLC00007969    2019-10-03   \n",
       "3       2020-06-01    TXN00000004   A00007572   PLC00009292    2016-11-29   \n",
       "4       2020-06-01    TXN00000005   A00008173   PLC00000204    2011-12-26   \n",
       "...            ...            ...         ...           ...           ...   \n",
       "9995    2021-06-30    TXN00009996   A00006029   PLC00007245    2014-04-11   \n",
       "9996    2021-06-30    TXN00009997   A00003555   PLC00002590    2015-08-25   \n",
       "9997    2021-06-30    TXN00009998   A00004230   PLC00006613    2018-10-11   \n",
       "9998    2021-06-30    TXN00009999   A00006694   PLC00001781    2016-01-29   \n",
       "9999    2021-06-30    TXN00010000   A00000390   PLC00005197    2014-09-17   \n",
       "\n",
       "         LOSS_DT   REPORT_DT INSURANCE_TYPE  PREMIUM_AMOUNT  CLAIM_AMOUNT  \\\n",
       "0     2020-05-16  2020-05-21         Health          157.13          9000   \n",
       "1     2020-05-13  2020-05-18       Property          141.71         26000   \n",
       "2     2020-05-21  2020-05-26       Property          157.24         13000   \n",
       "3     2020-05-14  2020-05-19         Health          172.87         16000   \n",
       "4     2020-05-17  2020-05-22         Travel           88.53          3000   \n",
       "...          ...         ...            ...             ...           ...   \n",
       "9995  2021-06-25  2021-06-26          Motor          105.75          1000   \n",
       "9996  2021-06-12  2021-06-17           Life           64.59         67000   \n",
       "9997  2021-06-18  2021-06-23         Health          183.50          8000   \n",
       "9998  2021-06-16  2021-06-21          Motor          113.46          2000   \n",
       "9999  2021-06-21  2021-06-24         Mobile            8.22           300   \n",
       "\n",
       "      ... EMP_ROUTING_NUMBER     EMP_ACCT_NUMBER  \\\n",
       "0     ...           35441155  LRZO53254369804934   \n",
       "1     ...           44055451  XBYG14382904542874   \n",
       "2     ...           55770246  WRXH14597428306333   \n",
       "3     ...           87652976  YEPN16077902472499   \n",
       "4     ...           76119019  HZBK86544578578547   \n",
       "...   ...                ...                 ...   \n",
       "9995  ...           35413882  LFOJ76068590051807   \n",
       "9996  ...           91206790  AHEF60771774635030   \n",
       "9997  ...          115241097  WREH18805592939657   \n",
       "9998  ...           13995380  AAZI21883736448048   \n",
       "9999  ...           39790996  RPES05613584687957   \n",
       "\n",
       "                           VENDOR_NAME              ADDRESS_LINE1  \\\n",
       "0                           Ramsey Inc       3114 West 20th Court   \n",
       "1     Morales, Campbell and Washington      42 West Louise Street   \n",
       "2                          Johnson Ltd    2619 North Quality Lane   \n",
       "3                     Blackwell-Foster          3609 Meadow Drive   \n",
       "4                          Evans-Scott  4001 19th Place Northeast   \n",
       "...                                ...                        ...   \n",
       "9995                               NaN                        NaN   \n",
       "9996          Newton, Hodges and Henry      32512 Christine Drive   \n",
       "9997                    Reese-Mckinney         20 Garfield Street   \n",
       "9998       Harmon, Manning and Bradley           1823 Dinger Road   \n",
       "9999                    Foster-Sanchez        4255 Tanager Common   \n",
       "\n",
       "     ADDRESS_LINE2          CITY STATE POSTAL_CODE  COLOCATION  \\\n",
       "0              NaN   Panama City    FL     32405.0           0   \n",
       "1                B  Fayetteville    AR     72701.0           0   \n",
       "2             #315  Fayetteville    AR     72703.0           0   \n",
       "3              NaN     Nashville    TN     37215.0           0   \n",
       "4              NaN    Washington    DC     20018.0           0   \n",
       "...            ...           ...   ...         ...         ...   \n",
       "9995           NaN           NaN   NaN         NaN           0   \n",
       "9996           NaN    Union City    CA     94587.0           0   \n",
       "9997           NaN       Needham    MA      2492.0           0   \n",
       "9998           NaN     Annapolis    MD     21402.0           0   \n",
       "9999           NaN       Fremont    CA     94555.0           0   \n",
       "\n",
       "      CLAIM_DEVIATION  \n",
       "0                   0  \n",
       "1                   0  \n",
       "2                   0  \n",
       "3                   0  \n",
       "4                   0  \n",
       "...               ...  \n",
       "9995               -1  \n",
       "9996               -1  \n",
       "9997               -1  \n",
       "9998               -1  \n",
       "9999               -1  \n",
       "\n",
       "[10000 rows x 55 columns]"
      ]
     },
     "execution_count": 21,
     "metadata": {},
     "output_type": "execute_result"
    }
   ],
   "source": [
    "df"
   ]
  },
  {
   "cell_type": "code",
   "execution_count": 22,
   "metadata": {
    "colab": {
     "base_uri": "https://localhost:8080/"
    },
    "id": "kqYVoSW_LiCw",
    "outputId": "dffd09ad-487d-4feb-8f56-a9b20ac1ba97"
   },
   "outputs": [
    {
     "data": {
      "text/plain": [
       " 0    9216\n",
       "-1     784\n",
       "Name: CLAIM_DEVIATION, dtype: int64"
      ]
     },
     "execution_count": 22,
     "metadata": {},
     "output_type": "execute_result"
    }
   ],
   "source": [
    "df.CLAIM_DEVIATION.value_counts()"
   ]
  },
  {
   "cell_type": "markdown",
   "metadata": {
    "id": "NL7QgHCPjkB_"
   },
   "source": [
    "9216 claims deviation are less than 0.5, \n",
    "784 claims transaction have  history of less than 30 days"
   ]
  },
  {
   "cell_type": "markdown",
   "metadata": {
    "id": "CwGFuN_sj-xs"
   },
   "source": [
    "# TASK 7"
   ]
  },
  {
   "cell_type": "code",
   "execution_count": 23,
   "metadata": {
    "id": "GV1L7eToLoYn"
   },
   "outputs": [],
   "source": [
    "# INSURANCE type\n",
    "Type_Count = df.groupby('AGENT_ID')['INSURANCE_TYPE'].nunique()\n",
    "\n",
    "#AGENTS that have more than 2 types\n",
    "Agent_Insurance_Types = Type_Count>2\n",
    "\n",
    "#Agents worked in 2 or more\n",
    "Multi_Type_Agents = Agent_Insurance_Types[Agent_Insurance_Types].index\n",
    "\n",
    "#TOP AGENTS\n",
    "TOP_AGENTS = df.groupby(['AGENT_ID','AGENT_NAME']).sum().loc[Multi_Type_Agents][['CLAIM_AMOUNT']].sort_values('CLAIM_AMOUNT',ascending=False)"
   ]
  },
  {
   "cell_type": "code",
   "execution_count": 24,
   "metadata": {
    "colab": {
     "base_uri": "https://localhost:8080/",
     "height": 450
    },
    "id": "f6f2OyHmMNr9",
    "outputId": "45300185-d16c-446b-a388-bfb4d2871f87"
   },
   "outputs": [
    {
     "data": {
      "text/html": [
       "<div>\n",
       "<style scoped>\n",
       "    .dataframe tbody tr th:only-of-type {\n",
       "        vertical-align: middle;\n",
       "    }\n",
       "\n",
       "    .dataframe tbody tr th {\n",
       "        vertical-align: top;\n",
       "    }\n",
       "\n",
       "    .dataframe thead th {\n",
       "        text-align: right;\n",
       "    }\n",
       "</style>\n",
       "<table border=\"1\" class=\"dataframe\">\n",
       "  <thead>\n",
       "    <tr style=\"text-align: right;\">\n",
       "      <th></th>\n",
       "      <th></th>\n",
       "      <th>CLAIM_AMOUNT</th>\n",
       "    </tr>\n",
       "    <tr>\n",
       "      <th>AGENT_ID</th>\n",
       "      <th>AGENT_NAME</th>\n",
       "      <th></th>\n",
       "    </tr>\n",
       "  </thead>\n",
       "  <tbody>\n",
       "    <tr>\n",
       "      <th>AGENT00807</th>\n",
       "      <th>Don Filkins</th>\n",
       "      <td>528800</td>\n",
       "    </tr>\n",
       "    <tr>\n",
       "      <th>AGENT00679</th>\n",
       "      <th>Clara Barnett</th>\n",
       "      <td>489000</td>\n",
       "    </tr>\n",
       "    <tr>\n",
       "      <th>AGENT00771</th>\n",
       "      <th>Roger Burns</th>\n",
       "      <td>422100</td>\n",
       "    </tr>\n",
       "    <tr>\n",
       "      <th>AGENT00125</th>\n",
       "      <th>Salvador Soriano</th>\n",
       "      <td>400400</td>\n",
       "    </tr>\n",
       "    <tr>\n",
       "      <th>AGENT00789</th>\n",
       "      <th>Alison Baron</th>\n",
       "      <td>392900</td>\n",
       "    </tr>\n",
       "    <tr>\n",
       "      <th>...</th>\n",
       "      <th>...</th>\n",
       "      <td>...</td>\n",
       "    </tr>\n",
       "    <tr>\n",
       "      <th>AGENT00910</th>\n",
       "      <th>Vincent Ragan</th>\n",
       "      <td>15500</td>\n",
       "    </tr>\n",
       "    <tr>\n",
       "      <th>AGENT00689</th>\n",
       "      <th>Connie Hunt</th>\n",
       "      <td>13700</td>\n",
       "    </tr>\n",
       "    <tr>\n",
       "      <th>AGENT00732</th>\n",
       "      <th>Sylvia Tran</th>\n",
       "      <td>11300</td>\n",
       "    </tr>\n",
       "    <tr>\n",
       "      <th>AGENT00706</th>\n",
       "      <th>Laura Staggs</th>\n",
       "      <td>10800</td>\n",
       "    </tr>\n",
       "    <tr>\n",
       "      <th>AGENT00604</th>\n",
       "      <th>Thelma Salinas</th>\n",
       "      <td>5500</td>\n",
       "    </tr>\n",
       "  </tbody>\n",
       "</table>\n",
       "<p>1164 rows × 1 columns</p>\n",
       "</div>"
      ],
      "text/plain": [
       "                             CLAIM_AMOUNT\n",
       "AGENT_ID   AGENT_NAME                    \n",
       "AGENT00807 Don Filkins             528800\n",
       "AGENT00679 Clara Barnett           489000\n",
       "AGENT00771 Roger Burns             422100\n",
       "AGENT00125 Salvador Soriano        400400\n",
       "AGENT00789 Alison Baron            392900\n",
       "...                                   ...\n",
       "AGENT00910 Vincent Ragan            15500\n",
       "AGENT00689 Connie Hunt              13700\n",
       "AGENT00732 Sylvia Tran              11300\n",
       "AGENT00706 Laura Staggs             10800\n",
       "AGENT00604 Thelma Salinas            5500\n",
       "\n",
       "[1164 rows x 1 columns]"
      ]
     },
     "execution_count": 24,
     "metadata": {},
     "output_type": "execute_result"
    }
   ],
   "source": [
    "TOP_AGENTS"
   ]
  },
  {
   "cell_type": "code",
   "execution_count": 25,
   "metadata": {
    "colab": {
     "base_uri": "https://localhost:8080/",
     "height": 450
    },
    "id": "_5Btvh5YMRXK",
    "outputId": "6ac59866-123c-4806-efed-42b2bb90c9db"
   },
   "outputs": [
    {
     "data": {
      "text/html": [
       "<div>\n",
       "<style scoped>\n",
       "    .dataframe tbody tr th:only-of-type {\n",
       "        vertical-align: middle;\n",
       "    }\n",
       "\n",
       "    .dataframe tbody tr th {\n",
       "        vertical-align: top;\n",
       "    }\n",
       "\n",
       "    .dataframe thead th {\n",
       "        text-align: right;\n",
       "    }\n",
       "</style>\n",
       "<table border=\"1\" class=\"dataframe\">\n",
       "  <thead>\n",
       "    <tr style=\"text-align: right;\">\n",
       "      <th></th>\n",
       "      <th></th>\n",
       "      <th>CLAIM_AMOUNT</th>\n",
       "      <th>INSURANCE_TYPE</th>\n",
       "    </tr>\n",
       "    <tr>\n",
       "      <th>AGENT_ID</th>\n",
       "      <th>AGENT_NAME</th>\n",
       "      <th></th>\n",
       "      <th></th>\n",
       "    </tr>\n",
       "  </thead>\n",
       "  <tbody>\n",
       "    <tr>\n",
       "      <th>AGENT00807</th>\n",
       "      <th>Don Filkins</th>\n",
       "      <td>528800</td>\n",
       "      <td>6</td>\n",
       "    </tr>\n",
       "    <tr>\n",
       "      <th>AGENT00679</th>\n",
       "      <th>Clara Barnett</th>\n",
       "      <td>489000</td>\n",
       "      <td>4</td>\n",
       "    </tr>\n",
       "    <tr>\n",
       "      <th>AGENT00771</th>\n",
       "      <th>Roger Burns</th>\n",
       "      <td>422100</td>\n",
       "      <td>5</td>\n",
       "    </tr>\n",
       "    <tr>\n",
       "      <th>AGENT00125</th>\n",
       "      <th>Salvador Soriano</th>\n",
       "      <td>400400</td>\n",
       "      <td>4</td>\n",
       "    </tr>\n",
       "    <tr>\n",
       "      <th>AGENT00789</th>\n",
       "      <th>Alison Baron</th>\n",
       "      <td>392900</td>\n",
       "      <td>4</td>\n",
       "    </tr>\n",
       "    <tr>\n",
       "      <th>...</th>\n",
       "      <th>...</th>\n",
       "      <td>...</td>\n",
       "      <td>...</td>\n",
       "    </tr>\n",
       "    <tr>\n",
       "      <th>AGENT00910</th>\n",
       "      <th>Vincent Ragan</th>\n",
       "      <td>15500</td>\n",
       "      <td>3</td>\n",
       "    </tr>\n",
       "    <tr>\n",
       "      <th>AGENT00689</th>\n",
       "      <th>Connie Hunt</th>\n",
       "      <td>13700</td>\n",
       "      <td>3</td>\n",
       "    </tr>\n",
       "    <tr>\n",
       "      <th>AGENT00732</th>\n",
       "      <th>Sylvia Tran</th>\n",
       "      <td>11300</td>\n",
       "      <td>3</td>\n",
       "    </tr>\n",
       "    <tr>\n",
       "      <th>AGENT00706</th>\n",
       "      <th>Laura Staggs</th>\n",
       "      <td>10800</td>\n",
       "      <td>3</td>\n",
       "    </tr>\n",
       "    <tr>\n",
       "      <th>AGENT00604</th>\n",
       "      <th>Thelma Salinas</th>\n",
       "      <td>5500</td>\n",
       "      <td>3</td>\n",
       "    </tr>\n",
       "  </tbody>\n",
       "</table>\n",
       "<p>1164 rows × 2 columns</p>\n",
       "</div>"
      ],
      "text/plain": [
       "                             CLAIM_AMOUNT  INSURANCE_TYPE\n",
       "AGENT_ID   AGENT_NAME                                    \n",
       "AGENT00807 Don Filkins             528800               6\n",
       "AGENT00679 Clara Barnett           489000               4\n",
       "AGENT00771 Roger Burns             422100               5\n",
       "AGENT00125 Salvador Soriano        400400               4\n",
       "AGENT00789 Alison Baron            392900               4\n",
       "...                                   ...             ...\n",
       "AGENT00910 Vincent Ragan            15500               3\n",
       "AGENT00689 Connie Hunt              13700               3\n",
       "AGENT00732 Sylvia Tran              11300               3\n",
       "AGENT00706 Laura Staggs             10800               3\n",
       "AGENT00604 Thelma Salinas            5500               3\n",
       "\n",
       "[1164 rows x 2 columns]"
      ]
     },
     "execution_count": 25,
     "metadata": {},
     "output_type": "execute_result"
    }
   ],
   "source": [
    "TOP_AGENTS.join(Type_Count)"
   ]
  },
  {
   "cell_type": "markdown",
   "metadata": {
    "id": "b133py4-MqON"
   },
   "source": [
    "# TASK 8"
   ]
  },
  {
   "cell_type": "code",
   "execution_count": 26,
   "metadata": {
    "colab": {
     "base_uri": "https://localhost:8080/"
    },
    "id": "tQ8QykV9MpGV",
    "outputId": "71368166-aaa7-4e3c-8ba5-5790071e6d24"
   },
   "outputs": [
    {
     "data": {
      "text/plain": [
       "885085.95"
      ]
     },
     "execution_count": 26,
     "metadata": {},
     "output_type": "execute_result"
    }
   ],
   "source": [
    "Premium_Collected_Earlier = df['PREMIUM_AMOUNT'].sum()\n",
    "Premium_Collected_Earlier"
   ]
  },
  {
   "cell_type": "code",
   "execution_count": 27,
   "metadata": {
    "colab": {
     "base_uri": "https://localhost:8080/"
    },
    "id": "u-Rke92eM95h",
    "outputId": "3ae12f58-007d-4013-c67e-c1e9c8d0731a"
   },
   "outputs": [
    {
     "data": {
      "text/plain": [
       "{'Health': 252455.73,\n",
       " 'Life': 125621.22,\n",
       " 'Mobile': 15191.42,\n",
       " 'Motor': 165391.98,\n",
       " 'Property': 202285.83,\n",
       " 'Travel': 124139.77}"
      ]
     },
     "execution_count": 27,
     "metadata": {},
     "output_type": "execute_result"
    }
   ],
   "source": [
    "#total premium collected\n",
    "Prem_By_Types = df.groupby('INSURANCE_TYPE').sum()['PREMIUM_AMOUNT'].to_dict()\n",
    "Prem_By_Types"
   ]
  },
  {
   "cell_type": "code",
   "execution_count": 28,
   "metadata": {
    "id": "6gi2v6yiNI1v"
   },
   "outputs": [],
   "source": [
    "# Mobile & Travel premium discounted by 10%\n",
    "Prem_By_Types['Mobile']*=0.9\n",
    "Prem_By_Types['Travel']*=0.9\n",
    "# Health and Property premium increases by 7%\n",
    "Prem_By_Types['Health']*=1.07\n",
    "Prem_By_Types['Property']*=1.07\n",
    "# Life and Motor premium increased by 2%\n",
    "Prem_By_Types['Life']*=1.02\n",
    "Prem_By_Types['Motor']*=1.02"
   ]
  },
  {
   "cell_type": "code",
   "execution_count": 29,
   "metadata": {
    "colab": {
     "base_uri": "https://localhost:8080/"
    },
    "id": "-qg7QzvgNX7Y",
    "outputId": "c6d1f6f4-9508-4ca7-eaab-d6b449492b03"
   },
   "outputs": [
    {
     "data": {
      "text/plain": [
       "908805.0042000001"
      ]
     },
     "execution_count": 29,
     "metadata": {},
     "output_type": "execute_result"
    }
   ],
   "source": [
    "# Premium after increase and discount\n",
    "New_Premium = sum(Prem_By_Types.values())\n",
    "New_Premium"
   ]
  },
  {
   "cell_type": "code",
   "execution_count": 30,
   "metadata": {
    "colab": {
     "base_uri": "https://localhost:8080/"
    },
    "id": "Pr8y4aHlNjkL",
    "outputId": "6775e9d1-151f-49a5-e9a6-57f7054e6d1c"
   },
   "outputs": [
    {
     "data": {
      "text/plain": [
       "2.6798588543858517"
      ]
     },
     "execution_count": 30,
     "metadata": {},
     "output_type": "execute_result"
    }
   ],
   "source": [
    "(New_Premium-Premium_Collected_Earlier)*100/Premium_Collected_Earlier"
   ]
  },
  {
   "cell_type": "markdown",
   "metadata": {
    "id": "_dMmjxZzlRA7"
   },
   "source": [
    "Overall change in Premium amount collected is  2.679% or 2.68%"
   ]
  },
  {
   "cell_type": "markdown",
   "metadata": {
    "id": "8RBbkwGIQ-uv"
   },
   "source": [
    "# TASK 9"
   ]
  },
  {
   "cell_type": "code",
   "execution_count": 31,
   "metadata": {
    "id": "o55yaWW9Qwqr"
   },
   "outputs": [],
   "source": [
    "#calculating discount for given condition\n",
    "Discount=(df['TENURE']>60)&(df['EMPLOYMENT_STATUS']=='N')&(df['NO_OF_FAMILY_MEMBERS']>=4)"
   ]
  },
  {
   "cell_type": "code",
   "execution_count": 32,
   "metadata": {
    "id": "fW_q2kajRNz-"
   },
   "outputs": [],
   "source": [
    "df['ELIGIBLE_FOR_DISCOUNT'] = Discount.astype('int')"
   ]
  },
  {
   "cell_type": "code",
   "execution_count": 33,
   "metadata": {
    "colab": {
     "base_uri": "https://localhost:8080/"
    },
    "id": "Ah-Z52MQRUI-",
    "outputId": "6e13c450-ef48-4704-fc1b-ab85ffa88de7"
   },
   "outputs": [
    {
     "data": {
      "text/plain": [
       "0.0299"
      ]
     },
     "execution_count": 33,
     "metadata": {},
     "output_type": "execute_result"
    }
   ],
   "source": [
    "df['ELIGIBLE_FOR_DISCOUNT'].mean()"
   ]
  },
  {
   "cell_type": "markdown",
   "metadata": {
    "id": "80QdCumGmDfm"
   },
   "source": [
    "Total 2.99% customers are eligible for discount"
   ]
  },
  {
   "cell_type": "markdown",
   "metadata": {
    "id": "Fjqi1_K_RdoS"
   },
   "source": [
    "# TASK 10"
   ]
  },
  {
   "cell_type": "code",
   "execution_count": 34,
   "metadata": {
    "colab": {
     "base_uri": "https://localhost:8080/"
    },
    "id": "S1Nz9EnMRgB3",
    "outputId": "ef01867c-8338-4916-a1ad-5650c064d9f3"
   },
   "outputs": [
    {
     "data": {
      "text/plain": [
       "Timestamp('2021-06-30 00:00:00')"
      ]
     },
     "execution_count": 34,
     "metadata": {},
     "output_type": "execute_result"
    }
   ],
   "source": [
    "C_Date"
   ]
  },
  {
   "cell_type": "code",
   "execution_count": 35,
   "metadata": {
    "id": "IeQLJgW4Rprj"
   },
   "outputs": [],
   "source": [
    "#data for last 3 days\n",
    "Last_3_Days = df.loc[(df['TXN_DATE_TIME'] > C_Date-pd.Timedelta(days=4)) & (df['TXN_DATE_TIME'] < C_Date)]"
   ]
  },
  {
   "cell_type": "code",
   "execution_count": 36,
   "metadata": {
    "id": "s2N6kmPIR37J"
   },
   "outputs": [],
   "source": [
    "#total approved claims in last 30 days\n",
    "Claims_In_Last_30_Days = pd.DataFrame.from_dict(Last_30_Days[Last_30_Days['CLAIM_STATUS']=='A'].groupby('INSURANCE_TYPE').size().to_dict(),orient='index',columns=['NO_OF_CLAIMS_IN_LAST30DAYS'])"
   ]
  },
  {
   "cell_type": "code",
   "execution_count": 37,
   "metadata": {
    "id": "BrMSzCDdSQuE"
   },
   "outputs": [],
   "source": [
    "#total approved claims in last 3 days\n",
    "Claims_In_Last_3_Days = pd.DataFrame.from_dict(Last_3_Days[Last_3_Days['CLAIM_STATUS']=='A'].groupby('INSURANCE_TYPE').size().to_dict(),orient='index',columns=['NO_OF_CLAIMS_IN_LAST3DAYS'])"
   ]
  },
  {
   "cell_type": "code",
   "execution_count": 38,
   "metadata": {
    "id": "wHt0YqFSSrT4"
   },
   "outputs": [],
   "source": [
    "#total approved claims\n",
    "Approved_Claims = Claims_In_Last_30_Days.join(Claims_In_Last_3_Days)"
   ]
  },
  {
   "cell_type": "code",
   "execution_count": 39,
   "metadata": {
    "id": "_PShaRh-S4Kz"
   },
   "outputs": [],
   "source": [
    "Approved_Claims['CLAIM_VELOCITY'] = Approved_Claims['NO_OF_CLAIMS_IN_LAST30DAYS']/Approved_Claims['NO_OF_CLAIMS_IN_LAST3DAYS']"
   ]
  },
  {
   "cell_type": "code",
   "execution_count": 40,
   "metadata": {
    "colab": {
     "base_uri": "https://localhost:8080/",
     "height": 235
    },
    "id": "EIkw2-msThIz",
    "outputId": "af513441-0f59-45f2-e0c7-cfe2b9a335d9"
   },
   "outputs": [
    {
     "data": {
      "text/html": [
       "<div>\n",
       "<style scoped>\n",
       "    .dataframe tbody tr th:only-of-type {\n",
       "        vertical-align: middle;\n",
       "    }\n",
       "\n",
       "    .dataframe tbody tr th {\n",
       "        vertical-align: top;\n",
       "    }\n",
       "\n",
       "    .dataframe thead th {\n",
       "        text-align: right;\n",
       "    }\n",
       "</style>\n",
       "<table border=\"1\" class=\"dataframe\">\n",
       "  <thead>\n",
       "    <tr style=\"text-align: right;\">\n",
       "      <th></th>\n",
       "      <th>NO_OF_CLAIMS_IN_LAST30DAYS</th>\n",
       "      <th>NO_OF_CLAIMS_IN_LAST3DAYS</th>\n",
       "      <th>CLAIM_VELOCITY</th>\n",
       "    </tr>\n",
       "  </thead>\n",
       "  <tbody>\n",
       "    <tr>\n",
       "      <th>Health</th>\n",
       "      <td>128</td>\n",
       "      <td>14</td>\n",
       "      <td>9.142857</td>\n",
       "    </tr>\n",
       "    <tr>\n",
       "      <th>Life</th>\n",
       "      <td>128</td>\n",
       "      <td>12</td>\n",
       "      <td>10.666667</td>\n",
       "    </tr>\n",
       "    <tr>\n",
       "      <th>Mobile</th>\n",
       "      <td>127</td>\n",
       "      <td>9</td>\n",
       "      <td>14.111111</td>\n",
       "    </tr>\n",
       "    <tr>\n",
       "      <th>Motor</th>\n",
       "      <td>117</td>\n",
       "      <td>12</td>\n",
       "      <td>9.750000</td>\n",
       "    </tr>\n",
       "    <tr>\n",
       "      <th>Property</th>\n",
       "      <td>125</td>\n",
       "      <td>12</td>\n",
       "      <td>10.416667</td>\n",
       "    </tr>\n",
       "    <tr>\n",
       "      <th>Travel</th>\n",
       "      <td>123</td>\n",
       "      <td>14</td>\n",
       "      <td>8.785714</td>\n",
       "    </tr>\n",
       "  </tbody>\n",
       "</table>\n",
       "</div>"
      ],
      "text/plain": [
       "          NO_OF_CLAIMS_IN_LAST30DAYS  NO_OF_CLAIMS_IN_LAST3DAYS  \\\n",
       "Health                           128                         14   \n",
       "Life                             128                         12   \n",
       "Mobile                           127                          9   \n",
       "Motor                            117                         12   \n",
       "Property                         125                         12   \n",
       "Travel                           123                         14   \n",
       "\n",
       "          CLAIM_VELOCITY  \n",
       "Health          9.142857  \n",
       "Life           10.666667  \n",
       "Mobile         14.111111  \n",
       "Motor           9.750000  \n",
       "Property       10.416667  \n",
       "Travel          8.785714  "
      ]
     },
     "execution_count": 40,
     "metadata": {},
     "output_type": "execute_result"
    }
   ],
   "source": [
    "Approved_Claims"
   ]
  },
  {
   "cell_type": "markdown",
   "metadata": {
    "id": "P21HHR-1cqTl"
   },
   "source": [
    "# TASK 11"
   ]
  },
  {
   "cell_type": "code",
   "execution_count": 41,
   "metadata": {
    "id": "OKLcbQr7cuXP"
   },
   "outputs": [],
   "source": [
    "Lowest_5 = df.groupby('AGENT_ID').sum().quantile(0.05)['CLAIM_AMOUNT']"
   ]
  },
  {
   "cell_type": "code",
   "execution_count": 42,
   "metadata": {
    "id": "rswfFFZ_c7Rk"
   },
   "outputs": [],
   "source": [
    "Agent_Total_Data = df.groupby('AGENT_ID').sum()"
   ]
  },
  {
   "cell_type": "code",
   "execution_count": 43,
   "metadata": {
    "id": "qha3juTFdE04"
   },
   "outputs": [],
   "source": [
    "#Low performing agent data\n",
    "Low_Performing_Agents = Agent_Total_Data[Agent_Total_Data['CLAIM_AMOUNT'] <= Lowest_5][['CLAIM_AMOUNT']]"
   ]
  },
  {
   "cell_type": "code",
   "execution_count": 44,
   "metadata": {
    "colab": {
     "base_uri": "https://localhost:8080/",
     "height": 1000
    },
    "id": "dTgqd3a6dUVN",
    "outputId": "6417b3e2-fd97-4340-fcf5-f47f0d68c70e"
   },
   "outputs": [
    {
     "data": {
      "text/html": [
       "<div>\n",
       "<style scoped>\n",
       "    .dataframe tbody tr th:only-of-type {\n",
       "        vertical-align: middle;\n",
       "    }\n",
       "\n",
       "    .dataframe tbody tr th {\n",
       "        vertical-align: top;\n",
       "    }\n",
       "\n",
       "    .dataframe thead th {\n",
       "        text-align: right;\n",
       "    }\n",
       "</style>\n",
       "<table border=\"1\" class=\"dataframe\">\n",
       "  <thead>\n",
       "    <tr style=\"text-align: right;\">\n",
       "      <th></th>\n",
       "      <th>CLAIM_AMOUNT</th>\n",
       "    </tr>\n",
       "    <tr>\n",
       "      <th>AGENT_ID</th>\n",
       "      <th></th>\n",
       "    </tr>\n",
       "  </thead>\n",
       "  <tbody>\n",
       "    <tr>\n",
       "      <th>AGENT00006</th>\n",
       "      <td>22400</td>\n",
       "    </tr>\n",
       "    <tr>\n",
       "      <th>AGENT00014</th>\n",
       "      <td>7400</td>\n",
       "    </tr>\n",
       "    <tr>\n",
       "      <th>AGENT00016</th>\n",
       "      <td>27000</td>\n",
       "    </tr>\n",
       "    <tr>\n",
       "      <th>AGENT00085</th>\n",
       "      <td>25700</td>\n",
       "    </tr>\n",
       "    <tr>\n",
       "      <th>AGENT00088</th>\n",
       "      <td>27700</td>\n",
       "    </tr>\n",
       "    <tr>\n",
       "      <th>AGENT00091</th>\n",
       "      <td>30000</td>\n",
       "    </tr>\n",
       "    <tr>\n",
       "      <th>AGENT00098</th>\n",
       "      <td>28200</td>\n",
       "    </tr>\n",
       "    <tr>\n",
       "      <th>AGENT00134</th>\n",
       "      <td>22000</td>\n",
       "    </tr>\n",
       "    <tr>\n",
       "      <th>AGENT00149</th>\n",
       "      <td>28900</td>\n",
       "    </tr>\n",
       "    <tr>\n",
       "      <th>AGENT00156</th>\n",
       "      <td>13200</td>\n",
       "    </tr>\n",
       "    <tr>\n",
       "      <th>AGENT00172</th>\n",
       "      <td>22200</td>\n",
       "    </tr>\n",
       "    <tr>\n",
       "      <th>AGENT00185</th>\n",
       "      <td>16100</td>\n",
       "    </tr>\n",
       "    <tr>\n",
       "      <th>AGENT00186</th>\n",
       "      <td>27700</td>\n",
       "    </tr>\n",
       "    <tr>\n",
       "      <th>AGENT00188</th>\n",
       "      <td>28400</td>\n",
       "    </tr>\n",
       "    <tr>\n",
       "      <th>AGENT00197</th>\n",
       "      <td>18500</td>\n",
       "    </tr>\n",
       "    <tr>\n",
       "      <th>AGENT00252</th>\n",
       "      <td>20000</td>\n",
       "    </tr>\n",
       "    <tr>\n",
       "      <th>AGENT00263</th>\n",
       "      <td>11500</td>\n",
       "    </tr>\n",
       "    <tr>\n",
       "      <th>AGENT00275</th>\n",
       "      <td>16200</td>\n",
       "    </tr>\n",
       "    <tr>\n",
       "      <th>AGENT00279</th>\n",
       "      <td>28000</td>\n",
       "    </tr>\n",
       "    <tr>\n",
       "      <th>AGENT00300</th>\n",
       "      <td>12600</td>\n",
       "    </tr>\n",
       "    <tr>\n",
       "      <th>AGENT00310</th>\n",
       "      <td>28800</td>\n",
       "    </tr>\n",
       "    <tr>\n",
       "      <th>AGENT00316</th>\n",
       "      <td>22200</td>\n",
       "    </tr>\n",
       "    <tr>\n",
       "      <th>AGENT00351</th>\n",
       "      <td>21700</td>\n",
       "    </tr>\n",
       "    <tr>\n",
       "      <th>AGENT00425</th>\n",
       "      <td>17800</td>\n",
       "    </tr>\n",
       "    <tr>\n",
       "      <th>AGENT00442</th>\n",
       "      <td>30300</td>\n",
       "    </tr>\n",
       "    <tr>\n",
       "      <th>AGENT00536</th>\n",
       "      <td>20000</td>\n",
       "    </tr>\n",
       "    <tr>\n",
       "      <th>AGENT00562</th>\n",
       "      <td>21100</td>\n",
       "    </tr>\n",
       "    <tr>\n",
       "      <th>AGENT00571</th>\n",
       "      <td>24200</td>\n",
       "    </tr>\n",
       "    <tr>\n",
       "      <th>AGENT00585</th>\n",
       "      <td>16600</td>\n",
       "    </tr>\n",
       "    <tr>\n",
       "      <th>AGENT00590</th>\n",
       "      <td>22200</td>\n",
       "    </tr>\n",
       "    <tr>\n",
       "      <th>AGENT00604</th>\n",
       "      <td>5500</td>\n",
       "    </tr>\n",
       "    <tr>\n",
       "      <th>AGENT00621</th>\n",
       "      <td>5300</td>\n",
       "    </tr>\n",
       "    <tr>\n",
       "      <th>AGENT00628</th>\n",
       "      <td>6100</td>\n",
       "    </tr>\n",
       "    <tr>\n",
       "      <th>AGENT00672</th>\n",
       "      <td>21300</td>\n",
       "    </tr>\n",
       "    <tr>\n",
       "      <th>AGENT00689</th>\n",
       "      <td>13700</td>\n",
       "    </tr>\n",
       "    <tr>\n",
       "      <th>AGENT00706</th>\n",
       "      <td>10800</td>\n",
       "    </tr>\n",
       "    <tr>\n",
       "      <th>AGENT00721</th>\n",
       "      <td>9000</td>\n",
       "    </tr>\n",
       "    <tr>\n",
       "      <th>AGENT00732</th>\n",
       "      <td>11300</td>\n",
       "    </tr>\n",
       "    <tr>\n",
       "      <th>AGENT00773</th>\n",
       "      <td>15000</td>\n",
       "    </tr>\n",
       "    <tr>\n",
       "      <th>AGENT00780</th>\n",
       "      <td>11300</td>\n",
       "    </tr>\n",
       "    <tr>\n",
       "      <th>AGENT00790</th>\n",
       "      <td>6000</td>\n",
       "    </tr>\n",
       "    <tr>\n",
       "      <th>AGENT00804</th>\n",
       "      <td>20000</td>\n",
       "    </tr>\n",
       "    <tr>\n",
       "      <th>AGENT00805</th>\n",
       "      <td>22600</td>\n",
       "    </tr>\n",
       "    <tr>\n",
       "      <th>AGENT00830</th>\n",
       "      <td>23500</td>\n",
       "    </tr>\n",
       "    <tr>\n",
       "      <th>AGENT00841</th>\n",
       "      <td>17800</td>\n",
       "    </tr>\n",
       "    <tr>\n",
       "      <th>AGENT00856</th>\n",
       "      <td>24200</td>\n",
       "    </tr>\n",
       "    <tr>\n",
       "      <th>AGENT00894</th>\n",
       "      <td>27600</td>\n",
       "    </tr>\n",
       "    <tr>\n",
       "      <th>AGENT00910</th>\n",
       "      <td>15500</td>\n",
       "    </tr>\n",
       "    <tr>\n",
       "      <th>AGENT00969</th>\n",
       "      <td>28300</td>\n",
       "    </tr>\n",
       "    <tr>\n",
       "      <th>AGENT00985</th>\n",
       "      <td>30000</td>\n",
       "    </tr>\n",
       "    <tr>\n",
       "      <th>AGENT01021</th>\n",
       "      <td>24300</td>\n",
       "    </tr>\n",
       "    <tr>\n",
       "      <th>AGENT01037</th>\n",
       "      <td>5600</td>\n",
       "    </tr>\n",
       "    <tr>\n",
       "      <th>AGENT01052</th>\n",
       "      <td>28000</td>\n",
       "    </tr>\n",
       "    <tr>\n",
       "      <th>AGENT01077</th>\n",
       "      <td>4200</td>\n",
       "    </tr>\n",
       "    <tr>\n",
       "      <th>AGENT01107</th>\n",
       "      <td>24700</td>\n",
       "    </tr>\n",
       "    <tr>\n",
       "      <th>AGENT01128</th>\n",
       "      <td>28000</td>\n",
       "    </tr>\n",
       "    <tr>\n",
       "      <th>AGENT01131</th>\n",
       "      <td>27500</td>\n",
       "    </tr>\n",
       "    <tr>\n",
       "      <th>AGENT01151</th>\n",
       "      <td>28000</td>\n",
       "    </tr>\n",
       "    <tr>\n",
       "      <th>AGENT01154</th>\n",
       "      <td>800</td>\n",
       "    </tr>\n",
       "    <tr>\n",
       "      <th>AGENT01179</th>\n",
       "      <td>27300</td>\n",
       "    </tr>\n",
       "  </tbody>\n",
       "</table>\n",
       "</div>"
      ],
      "text/plain": [
       "            CLAIM_AMOUNT\n",
       "AGENT_ID                \n",
       "AGENT00006         22400\n",
       "AGENT00014          7400\n",
       "AGENT00016         27000\n",
       "AGENT00085         25700\n",
       "AGENT00088         27700\n",
       "AGENT00091         30000\n",
       "AGENT00098         28200\n",
       "AGENT00134         22000\n",
       "AGENT00149         28900\n",
       "AGENT00156         13200\n",
       "AGENT00172         22200\n",
       "AGENT00185         16100\n",
       "AGENT00186         27700\n",
       "AGENT00188         28400\n",
       "AGENT00197         18500\n",
       "AGENT00252         20000\n",
       "AGENT00263         11500\n",
       "AGENT00275         16200\n",
       "AGENT00279         28000\n",
       "AGENT00300         12600\n",
       "AGENT00310         28800\n",
       "AGENT00316         22200\n",
       "AGENT00351         21700\n",
       "AGENT00425         17800\n",
       "AGENT00442         30300\n",
       "AGENT00536         20000\n",
       "AGENT00562         21100\n",
       "AGENT00571         24200\n",
       "AGENT00585         16600\n",
       "AGENT00590         22200\n",
       "AGENT00604          5500\n",
       "AGENT00621          5300\n",
       "AGENT00628          6100\n",
       "AGENT00672         21300\n",
       "AGENT00689         13700\n",
       "AGENT00706         10800\n",
       "AGENT00721          9000\n",
       "AGENT00732         11300\n",
       "AGENT00773         15000\n",
       "AGENT00780         11300\n",
       "AGENT00790          6000\n",
       "AGENT00804         20000\n",
       "AGENT00805         22600\n",
       "AGENT00830         23500\n",
       "AGENT00841         17800\n",
       "AGENT00856         24200\n",
       "AGENT00894         27600\n",
       "AGENT00910         15500\n",
       "AGENT00969         28300\n",
       "AGENT00985         30000\n",
       "AGENT01021         24300\n",
       "AGENT01037          5600\n",
       "AGENT01052         28000\n",
       "AGENT01077          4200\n",
       "AGENT01107         24700\n",
       "AGENT01128         28000\n",
       "AGENT01131         27500\n",
       "AGENT01151         28000\n",
       "AGENT01154           800\n",
       "AGENT01179         27300"
      ]
     },
     "execution_count": 44,
     "metadata": {},
     "output_type": "execute_result"
    }
   ],
   "source": [
    "Low_Performing_Agents"
   ]
  },
  {
   "cell_type": "markdown",
   "metadata": {
    "id": "mzxWhsDudgQd"
   },
   "source": [
    "# TASK 12"
   ]
  },
  {
   "cell_type": "code",
   "execution_count": 45,
   "metadata": {
    "id": "7wBchlO-djg8"
   },
   "outputs": [],
   "source": [
    "Condition = (df['CLAIM_STATUS']=='A')&(df['RISK_SEGMENTATION']=='H')&(df['INCIDENT_SEVERITY']=='Major Loss')"
   ]
  },
  {
   "cell_type": "code",
   "execution_count": 46,
   "metadata": {
    "id": "hSqsh67Adwg5"
   },
   "outputs": [],
   "source": [
    "Criteria= df[Condition]"
   ]
  },
  {
   "cell_type": "code",
   "execution_count": 47,
   "metadata": {
    "id": "sat5Q-KJd7LN"
   },
   "outputs": [],
   "source": [
    "Suspicious_Data = Criteria.groupby('AGENT_ID').sum()"
   ]
  },
  {
   "cell_type": "code",
   "execution_count": 48,
   "metadata": {
    "id": "MUNZGO6NeHj1"
   },
   "outputs": [],
   "source": [
    "Suspicious_Agents = list(Suspicious_Data[Suspicious_Data['CLAIM_AMOUNT']>=15000].index)"
   ]
  },
  {
   "cell_type": "code",
   "execution_count": 49,
   "metadata": {
    "id": "A6tkUQlLeSOn"
   },
   "outputs": [],
   "source": [
    "employee['SUSPICIOUS'] = 0"
   ]
  },
  {
   "cell_type": "code",
   "execution_count": 50,
   "metadata": {
    "id": "ZOd4QkpXedYO"
   },
   "outputs": [],
   "source": [
    "result = employee['AGENT_ID'].isin(Suspicious_Agents)"
   ]
  },
  {
   "cell_type": "code",
   "execution_count": 51,
   "metadata": {
    "id": "mK6pc9sBenqj"
   },
   "outputs": [],
   "source": [
    "employee.loc[result,'SUSPICIOUS']=1"
   ]
  },
  {
   "cell_type": "code",
   "execution_count": 52,
   "metadata": {
    "colab": {
     "base_uri": "https://localhost:8080/"
    },
    "id": "wmJFV0fHetZq",
    "outputId": "6cb1b834-2fa9-4bcc-cc17-bf1c2c483d0a"
   },
   "outputs": [
    {
     "data": {
      "text/plain": [
       "0.12416666666666666"
      ]
     },
     "execution_count": 52,
     "metadata": {},
     "output_type": "execute_result"
    }
   ],
   "source": [
    "employee['SUSPICIOUS'].mean()"
   ]
  },
  {
   "cell_type": "markdown",
   "metadata": {
    "id": "xn6fVzqVnVgE"
   },
   "source": [
    "This means from all enployee 12.41% are suspicious"
   ]
  },
  {
   "cell_type": "code",
   "execution_count": null,
   "metadata": {
    "id": "19UAXxpko_n8"
   },
   "outputs": [],
   "source": []
  }
 ],
 "metadata": {
  "colab": {
   "collapsed_sections": [],
   "name": "DATA ANALYTICS ASSIGNMENT.ipynb",
   "provenance": []
  },
  "kernelspec": {
   "display_name": "Python 3 (ipykernel)",
   "language": "python",
   "name": "python3"
  },
  "language_info": {
   "codemirror_mode": {
    "name": "ipython",
    "version": 3
   },
   "file_extension": ".py",
   "mimetype": "text/x-python",
   "name": "python",
   "nbconvert_exporter": "python",
   "pygments_lexer": "ipython3",
   "version": "3.9.7"
  }
 },
 "nbformat": 4,
 "nbformat_minor": 1
}
